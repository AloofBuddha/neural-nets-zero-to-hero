{
  "cells": [
    {
      "cell_type": "markdown",
      "metadata": {
        "id": "view-in-github",
        "colab_type": "text"
      },
      "source": [
        "<a href=\"https://colab.research.google.com/github/AloofBuddha/neural-nets-zero-to-hero/blob/main/micrograd.ipynb\" target=\"_parent\"><img src=\"https://colab.research.google.com/assets/colab-badge.svg\" alt=\"Open In Colab\"/></a>"
      ]
    },
    {
      "cell_type": "code",
      "execution_count": 1,
      "metadata": {
        "ExecuteTime": {
          "end_time": "2023-09-29T00:46:43.510621Z",
          "start_time": "2023-09-29T00:46:43.382018Z"
        },
        "id": "KH2xDj1LCgqO"
      },
      "outputs": [],
      "source": [
        "import math\n",
        "import numpy as np\n",
        "import matplotlib.pyplot as plt\n",
        "import torch\n",
        "from graphviz import Digraph\n",
        "import random\n",
        "\n",
        "%matplotlib inline"
      ]
    },
    {
      "cell_type": "markdown",
      "source": [
        "We are gonna teach ourselves gradient descent (how neural networks 'learn') from scratch. Gradient descent amounts to using the principles of calculus to find the local minima of a function.\n",
        "\n",
        "For an arbitrary function, we can find the slope (direction and magnitude) that most quickly moves us up/down the curve. If we do this repeatedly, we\n",
        "\n",
        "First, we have an ordinary function, it takes one input parameter and returns one value.\n",
        "\n",
        "We can graph this.\\"
      ],
      "metadata": {
        "id": "sRTISW03Cj0F"
      }
    },
    {
      "cell_type": "code",
      "execution_count": 2,
      "metadata": {
        "ExecuteTime": {
          "end_time": "2023-09-29T00:46:43.593871Z",
          "start_time": "2023-09-29T00:46:43.401185Z"
        },
        "id": "h2mQyNX-CgqQ",
        "outputId": "a917cb21-e4e5-4bd4-cf0b-fdce2884d4c2",
        "colab": {
          "base_uri": "https://localhost:8080/",
          "height": 447
        }
      },
      "outputs": [
        {
          "output_type": "execute_result",
          "data": {
            "text/plain": [
              "[<matplotlib.lines.Line2D at 0x7f662c9ddbd0>]"
            ]
          },
          "metadata": {},
          "execution_count": 2
        },
        {
          "output_type": "display_data",
          "data": {
            "text/plain": [
              "<Figure size 640x480 with 1 Axes>"
            ],
            "image/png": "[encoded data removed]"
          },
          "metadata": {}
        }
      ],
      "source": [
        "# an ordinary function\n",
        "\n",
        "def f(x):\n",
        "    return 3*x**2 - 4*x + 5\n",
        "\n",
        "f(3.0)\n",
        "\n",
        "xs = np.arange(-5, 5, 0.25)\n",
        "ys = f(xs)\n",
        "plt.plot(xs, ys)"
      ]
    },
    {
      "cell_type": "markdown",
      "source": [
        "We might want to compute the slope of a function. Using the slope of a function we could find it's gradient, it's path of steepest ascent/descent."
      ],
      "metadata": {
        "id": "PLkVvcEhC4Lq"
      }
    },
    {
      "cell_type": "code",
      "execution_count": 3,
      "metadata": {
        "ExecuteTime": {
          "end_time": "2023-09-29T00:46:43.594085Z",
          "start_time": "2023-09-29T00:46:43.540080Z"
        },
        "id": "OSZeR4DrCgqR",
        "outputId": "209d34cd-9b1d-4be9-adcb-52a83b681a33",
        "colab": {
          "base_uri": "https://localhost:8080/"
        }
      },
      "outputs": [
        {
          "output_type": "execute_result",
          "data": {
            "text/plain": [
              "14.000300000063248"
            ]
          },
          "metadata": {},
          "execution_count": 3
        }
      ],
      "source": [
        "# computing the derivative for that function at a specific point\n",
        "\n",
        "h = 0.0001\n",
        "x = 3.0\n",
        "(f(x+h) - f(x))/h"
      ]
    },
    {
      "cell_type": "markdown",
      "source": [
        "Our slope tells us which direction is up and which is down, and where our function is 0 is a local minima. We could take gradual steps to find a local minima of this function\n",
        "\n",
        "The gradient of a function tells you the direction of steepest increase. Here's the basic idea:\n",
        "\n",
        "**For a 1D function f(x):**\n",
        "- The gradient is just the derivative: f'(x)\n",
        "- Example: f(x) = x² → gradient = 2x\n",
        "\n",
        "**For a 2D function f(x,y):**\n",
        "- The gradient is a vector of partial derivatives: [∂f/∂x, ∂f/∂y]\n",
        "- Example: f(x,y) = x² + y² → gradient = [2x, 2y]\n",
        "\n",
        "**For an nD function f(x₁, x₂, ..., xₙ):**\n",
        "- The gradient is: [∂f/∂x₁, ∂f/∂x₂, ..., ∂f/∂xₙ]\n",
        "\n",
        "**How to find it:**\n",
        "\n",
        "1. **By hand**: Take partial derivatives with respect to each variable\n",
        "2. **Numerically**: Use finite differences - approximate the slope by evaluating the function at nearby points\n",
        "3. **Symbolically**: Use tools like SymPy to compute exact derivatives\n",
        "\n",
        "**Simple example:**\n",
        "If f(x,y) = x² + 3xy + y²\n",
        "- ∂f/∂x = 2x + 3y\n",
        "- ∂f/∂y = 3x + 2y\n",
        "- So gradient = [2x + 3y, 3x + 2y]\n",
        "\n",
        "At point (1,2): gradient = [2(1) + 3(2), 3(1) + 2(2)] = [8, 7]\n",
        "\n",
        "The gradient points in the direction where the function increases fastest. Setting the gradient to zero finds critical points (potential minima/maxima)."
      ],
      "metadata": {
        "id": "FTtQ7jm8DEQD"
      }
    },
    {
      "cell_type": "code",
      "execution_count": 4,
      "metadata": {
        "ExecuteTime": {
          "end_time": "2023-09-29T00:46:43.594256Z",
          "start_time": "2023-09-29T00:46:43.547721Z"
        },
        "id": "HJjc9azYCgqR",
        "outputId": "bb3888dc-516c-4bf7-b2e2-8be245ec5cb7",
        "colab": {
          "base_uri": "https://localhost:8080/"
        }
      },
      "outputs": [
        {
          "output_type": "execute_result",
          "data": {
            "text/plain": [
              "0.9999999999976694"
            ]
          },
          "metadata": {},
          "execution_count": 4
        }
      ],
      "source": [
        "# we can do this for a function with multiple variables as well\n",
        "# here we are finding the 'partial' derivative, ie how the output is effected based on tweaking one input at a time\n",
        "\n",
        "h = 0.0001\n",
        "a = 2.0\n",
        "b = -3.0\n",
        "c = 10.0\n",
        "\n",
        "d1 = a*b + c\n",
        "c += h\n",
        "d2 = a*b + c\n",
        "slope = (d2-d1)/h\n",
        "\n",
        "slope"
      ]
    },
    {
      "cell_type": "code",
      "source": [],
      "metadata": {
        "id": "9w84NVaNDX70"
      },
      "execution_count": 4,
      "outputs": []
    },
    {
      "cell_type": "code",
      "execution_count": 5,
      "metadata": {
        "ExecuteTime": {
          "end_time": "2023-09-29T00:46:43.594340Z",
          "start_time": "2023-09-29T00:46:43.554799Z"
        },
        "id": "GvYb7GlVCgqR"
      },
      "outputs": [],
      "source": [
        "# Value Object for our neural net graph\n",
        "\n",
        "class Value:\n",
        "    def __init__(self, data, _children=(), _op='', label=''):\n",
        "        self.data = data\n",
        "        self.grad = 0.0\n",
        "        self.label = label\n",
        "        self._backward = lambda: None\n",
        "        self._prev = set(_children)\n",
        "        self._op = _op\n",
        "\n",
        "    def __repr__(self):\n",
        "        return f\"Value(data={self.data})\"\n",
        "\n",
        "    def __add__(self, other) -> 'Value': # self + other\n",
        "        other = other if isinstance(other, Value) else Value(other)\n",
        "        out = Value(self.data + other.data, (self, other), '+')\n",
        "\n",
        "        def _backward():\n",
        "            self.grad += 1.0 * out.grad\n",
        "            other.grad += 1.0 * out.grad\n",
        "\n",
        "        out._backward = _backward\n",
        "\n",
        "        return out\n",
        "\n",
        "    def __mul__(self, other): # self * other\n",
        "        other = other if isinstance(other, Value) else Value(other)\n",
        "        out = Value(self.data * other.data, (self, other), '*')\n",
        "\n",
        "        def _backward():\n",
        "            self.grad += other.data * out.grad\n",
        "            other.grad += self.data * out.grad\n",
        "\n",
        "        out._backward = _backward\n",
        "\n",
        "        return out\n",
        "\n",
        "    def __pow__(self, other): # self ** other\n",
        "        assert isinstance(other, (int, float)), \"only supports int/float powers\"\n",
        "        out = Value(self.data**other, (self, ), f'**{other}')\n",
        "\n",
        "        def _backward():\n",
        "            self.grad += other * (self.data**(other-1)) * out.grad\n",
        "\n",
        "        out._backward = _backward\n",
        "\n",
        "        return out\n",
        "\n",
        "    def exp(self): # e ** self\n",
        "        x = self.data\n",
        "        out = Value(math.exp(x), (self, ), 'exp')\n",
        "\n",
        "        def _backward():\n",
        "            self.grad += out.data * out.grad # becuase derivative of e^x = e^x\n",
        "\n",
        "        out._backward = _backward\n",
        "\n",
        "        return out\n",
        "\n",
        "    def tanh(self):\n",
        "        x = self.data\n",
        "        t = (math.exp(2*x) - 1)/(math.exp(2*x) + 1)\n",
        "        out = Value(t, (self, ), 'tanh')\n",
        "\n",
        "        def _backward():\n",
        "            self.grad += (1 - t**2) * out.grad\n",
        "\n",
        "        out._backward = _backward\n",
        "\n",
        "        return out\n",
        "\n",
        "    def __truediv__(self, other): # self / other\n",
        "        return self * other**-1\n",
        "\n",
        "    def __sub__(self, other): # self - other\n",
        "        return self + (-other)\n",
        "\n",
        "    def __neg__(self): # -self\n",
        "        return self * -1\n",
        "\n",
        "    def __radd__(self, other): # other + self\n",
        "        return self + other\n",
        "\n",
        "    def __rmul__(self, other): # other * self\n",
        "        return self * other\n",
        "\n",
        "    def __rtruediv__(self, other): # other / self\n",
        "        return other * self**-1\n",
        "\n",
        "    def backward(self):\n",
        "        topo: list[Value] = []\n",
        "        visited = set()\n",
        "        def build_topo(v):\n",
        "            if v not in visited:\n",
        "                visited.add(v)\n",
        "                for child in v._prev:\n",
        "                    build_topo(child)\n",
        "                topo.append(v)\n",
        "\n",
        "        build_topo(self)\n",
        "        self.grad = 1.0\n",
        "        for node in reversed(topo):\n",
        "            node._backward()\n",
        "\n"
      ]
    },
    {
      "cell_type": "code",
      "execution_count": 6,
      "metadata": {
        "ExecuteTime": {
          "end_time": "2023-09-29T00:46:43.594399Z",
          "start_time": "2023-09-29T00:46:43.571815Z"
        },
        "id": "IAqotAsUCgqS"
      },
      "outputs": [],
      "source": [
        "# helper function for graphing NN\n",
        "\n",
        "def trace(root):\n",
        "  # builds a set of all nodes and edges in a graph\n",
        "  nodes, edges = set(), set()\n",
        "  def build(v):\n",
        "    if v not in nodes:\n",
        "      nodes.add(v)\n",
        "      for child in v._prev:\n",
        "        edges.add((child, v))\n",
        "        build(child)\n",
        "  build(root)\n",
        "  return nodes, edges\n",
        "\n",
        "def draw_dot(root):\n",
        "  dot = Digraph(format='svg', graph_attr={'rankdir': 'LR'}) # LR = left to right\n",
        "\n",
        "  nodes, edges = trace(root)\n",
        "  for n in nodes:\n",
        "    uid = str(id(n))\n",
        "    # for any value in the graph, create a rectangular ('record') node for it\n",
        "    dot.node(name = uid, label = \"{ %s | data %.4f | grad %.4f }\" % (n.label, n.data, n.grad), shape='record')\n",
        "    if n._op:\n",
        "      # if this value is a result of some operation, create an op node for it\n",
        "      dot.node(name = uid + n._op, label = n._op)\n",
        "      # and connect this node to it\n",
        "      dot.edge(uid + n._op, uid)\n",
        "\n",
        "  for n1, n2 in edges:\n",
        "    # connect n1 to the op node of n2\n",
        "    dot.edge(str(id(n1)), str(id(n2)) + n2._op)\n",
        "\n",
        "  return dot"
      ]
    },
    {
      "cell_type": "markdown",
      "source": [
        "\n",
        "\n",
        "`L = ((a * b) + c) * d`\n",
        "\n",
        "`L(2, -3, 10, -2) = -8`\n"
      ],
      "metadata": {
        "id": "v_PoUHgWGQno"
      }
    },
    {
      "cell_type": "code",
      "execution_count": 7,
      "metadata": {
        "ExecuteTime": {
          "end_time": "2023-09-29T00:46:43.785641Z",
          "start_time": "2023-09-29T00:46:43.587207Z"
        },
        "id": "OtqB1pkpCgqS",
        "outputId": "cc92c11d-4866-48c2-f51f-80d1070ec1b6",
        "colab": {
          "base_uri": "https://localhost:8080/",
          "height": 192
        }
      },
      "outputs": [
        {
          "output_type": "execute_result",
          "data": {
            "image/svg+xml": "<?xml version=\"1.0\" encoding=\"UTF-8\" standalone=\"no\"?>\n<!DOCTYPE svg PUBLIC \"-//W3C//DTD SVG 1.1//EN\"\n \"http://www.w3.org/Graphics/SVG/1.1/DTD/svg11.dtd\">\n<!-- Generated by graphviz version 2.43.0 (0)\n -->\n<!-- Title: %3 Pages: 1 -->\n<svg width=\"1148pt\" height=\"128pt\"\n viewBox=\"0.00 0.00 1148.00 128.00\" xmlns=\"http://www.w3.org/2000/svg\" xmlns:xlink=\"http://www.w3.org/1999/xlink\">\n<g id=\"graph0\" class=\"graph\" transform=\"scale(1 1) rotate(0) translate(4 124)\">\n<title>%3</title>\n<polygon fill=\"white\" stroke=\"transparent\" points=\"-4,4 -4,-124 1144,-124 1144,4 -4,4\"/>\n<!-- 140076809814096 -->\n<g id=\"node1\" class=\"node\">\n<title>140076809814096</title>\n<polygon fill=\"none\" stroke=\"black\" points=\"635.5,-27.5 635.5,-63.5 820.5,-63.5 820.5,-27.5 635.5,-27.5\"/>\n<text text-anchor=\"middle\" x=\"647\" y=\"-41.8\" font-family=\"Times,serif\" font-size=\"14.00\">d</text>\n<polyline fill=\"none\" stroke=\"black\" points=\"658.5,-27.5 658.5,-63.5 \"/>\n<text text-anchor=\"middle\" x=\"698.5\" y=\"-41.8\" font-family=\"Times,serif\" font-size=\"14.00\">data 4.0000</text>\n<polyline fill=\"none\" stroke=\"black\" points=\"738.5,-27.5 738.5,-63.5 \"/>\n<text text-anchor=\"middle\" x=\"779.5\" y=\"-41.8\" font-family=\"Times,serif\" font-size=\"14.00\">grad 0.0000</text>\n</g>\n<!-- 140076809714768* -->\n<g id=\"node6\" class=\"node\">\n<title>140076809714768*</title>\n<ellipse fill=\"none\" stroke=\"black\" cx=\"885\" cy=\"-72.5\" rx=\"27\" ry=\"18\"/>\n<text text-anchor=\"middle\" x=\"885\" y=\"-68.8\" font-family=\"Times,serif\" font-size=\"14.00\">*</text>\n</g>\n<!-- 140076809814096&#45;&gt;140076809714768* -->\n<g id=\"edge5\" class=\"edge\">\n<title>140076809814096&#45;&gt;140076809714768*</title>\n<path fill=\"none\" stroke=\"black\" d=\"M820.51,-61.44C830.48,-63.18 840.13,-64.86 848.77,-66.36\"/>\n<polygon fill=\"black\" stroke=\"black\" points=\"848.31,-69.84 858.77,-68.1 849.52,-62.94 848.31,-69.84\"/>\n</g>\n<!-- 140076809814096+ -->\n<g id=\"node2\" class=\"node\">\n<title>140076809814096+</title>\n<ellipse fill=\"none\" stroke=\"black\" cx=\"571\" cy=\"-45.5\" rx=\"27\" ry=\"18\"/>\n<text text-anchor=\"middle\" x=\"571\" y=\"-41.8\" font-family=\"Times,serif\" font-size=\"14.00\">+</text>\n</g>\n<!-- 140076809814096+&#45;&gt;140076809814096 -->\n<g id=\"edge1\" class=\"edge\">\n<title>140076809814096+&#45;&gt;140076809814096</title>\n<path fill=\"none\" stroke=\"black\" d=\"M598.29,-45.5C606.26,-45.5 615.54,-45.5 625.39,-45.5\"/>\n<polygon fill=\"black\" stroke=\"black\" points=\"625.41,-49 635.41,-45.5 625.41,-42 625.41,-49\"/>\n</g>\n<!-- 140076809829968 -->\n<g id=\"node3\" class=\"node\">\n<title>140076809829968</title>\n<polygon fill=\"none\" stroke=\"black\" points=\"317,-55.5 317,-91.5 507,-91.5 507,-55.5 317,-55.5\"/>\n<text text-anchor=\"middle\" x=\"328.5\" y=\"-69.8\" font-family=\"Times,serif\" font-size=\"14.00\">e</text>\n<polyline fill=\"none\" stroke=\"black\" points=\"340,-55.5 340,-91.5 \"/>\n<text text-anchor=\"middle\" x=\"382.5\" y=\"-69.8\" font-family=\"Times,serif\" font-size=\"14.00\">data &#45;6.0000</text>\n<polyline fill=\"none\" stroke=\"black\" points=\"425,-55.5 425,-91.5 \"/>\n<text text-anchor=\"middle\" x=\"466\" y=\"-69.8\" font-family=\"Times,serif\" font-size=\"14.00\">grad 0.0000</text>\n</g>\n<!-- 140076809829968&#45;&gt;140076809814096+ -->\n<g id=\"edge7\" class=\"edge\">\n<title>140076809829968&#45;&gt;140076809814096+</title>\n<path fill=\"none\" stroke=\"black\" d=\"M507.05,-56.73C516.89,-54.97 526.39,-53.28 534.9,-51.76\"/>\n<polygon fill=\"black\" stroke=\"black\" points=\"535.52,-55.2 544.75,-50 534.29,-48.31 535.52,-55.2\"/>\n</g>\n<!-- 140076809829968* -->\n<g id=\"node4\" class=\"node\">\n<title>140076809829968*</title>\n<ellipse fill=\"none\" stroke=\"black\" cx=\"253\" cy=\"-73.5\" rx=\"27\" ry=\"18\"/>\n<text text-anchor=\"middle\" x=\"253\" y=\"-69.8\" font-family=\"Times,serif\" font-size=\"14.00\">*</text>\n</g>\n<!-- 140076809829968*&#45;&gt;140076809829968 -->\n<g id=\"edge2\" class=\"edge\">\n<title>140076809829968*&#45;&gt;140076809829968</title>\n<path fill=\"none\" stroke=\"black\" d=\"M280.28,-73.5C288.05,-73.5 297.08,-73.5 306.68,-73.5\"/>\n<polygon fill=\"black\" stroke=\"black\" points=\"306.88,-77 316.88,-73.5 306.88,-70 306.88,-77\"/>\n</g>\n<!-- 140076809714768 -->\n<g id=\"node5\" class=\"node\">\n<title>140076809714768</title>\n<polygon fill=\"none\" stroke=\"black\" points=\"948,-54.5 948,-90.5 1140,-90.5 1140,-54.5 948,-54.5\"/>\n<text text-anchor=\"middle\" x=\"960.5\" y=\"-68.8\" font-family=\"Times,serif\" font-size=\"14.00\">L</text>\n<polyline fill=\"none\" stroke=\"black\" points=\"973,-54.5 973,-90.5 \"/>\n<text text-anchor=\"middle\" x=\"1015.5\" y=\"-68.8\" font-family=\"Times,serif\" font-size=\"14.00\">data &#45;8.0000</text>\n<polyline fill=\"none\" stroke=\"black\" points=\"1058,-54.5 1058,-90.5 \"/>\n<text text-anchor=\"middle\" x=\"1099\" y=\"-68.8\" font-family=\"Times,serif\" font-size=\"14.00\">grad 0.0000</text>\n</g>\n<!-- 140076809714768*&#45;&gt;140076809714768 -->\n<g id=\"edge3\" class=\"edge\">\n<title>140076809714768*&#45;&gt;140076809714768</title>\n<path fill=\"none\" stroke=\"black\" d=\"M912.28,-72.5C919.78,-72.5 928.44,-72.5 937.67,-72.5\"/>\n<polygon fill=\"black\" stroke=\"black\" points=\"937.87,-76 947.87,-72.5 937.87,-69 937.87,-76\"/>\n</g>\n<!-- 140076809824400 -->\n<g id=\"node7\" class=\"node\">\n<title>140076809824400</title>\n<polygon fill=\"none\" stroke=\"black\" points=\"634,-82.5 634,-118.5 822,-118.5 822,-82.5 634,-82.5\"/>\n<text text-anchor=\"middle\" x=\"644.5\" y=\"-96.8\" font-family=\"Times,serif\" font-size=\"14.00\">f</text>\n<polyline fill=\"none\" stroke=\"black\" points=\"655,-82.5 655,-118.5 \"/>\n<text text-anchor=\"middle\" x=\"697.5\" y=\"-96.8\" font-family=\"Times,serif\" font-size=\"14.00\">data &#45;2.0000</text>\n<polyline fill=\"none\" stroke=\"black\" points=\"740,-82.5 740,-118.5 \"/>\n<text text-anchor=\"middle\" x=\"781\" y=\"-96.8\" font-family=\"Times,serif\" font-size=\"14.00\">grad 0.0000</text>\n</g>\n<!-- 140076809824400&#45;&gt;140076809714768* -->\n<g id=\"edge9\" class=\"edge\">\n<title>140076809824400&#45;&gt;140076809714768*</title>\n<path fill=\"none\" stroke=\"black\" d=\"M822.29,-83.65C831.57,-81.97 840.52,-80.35 848.61,-78.89\"/>\n<polygon fill=\"black\" stroke=\"black\" points=\"849.46,-82.3 858.68,-77.07 848.21,-75.41 849.46,-82.3\"/>\n</g>\n<!-- 140076809822864 -->\n<g id=\"node8\" class=\"node\">\n<title>140076809822864</title>\n<polygon fill=\"none\" stroke=\"black\" points=\"316,-0.5 316,-36.5 508,-36.5 508,-0.5 316,-0.5\"/>\n<text text-anchor=\"middle\" x=\"327.5\" y=\"-14.8\" font-family=\"Times,serif\" font-size=\"14.00\">c</text>\n<polyline fill=\"none\" stroke=\"black\" points=\"339,-0.5 339,-36.5 \"/>\n<text text-anchor=\"middle\" x=\"382.5\" y=\"-14.8\" font-family=\"Times,serif\" font-size=\"14.00\">data 10.0000</text>\n<polyline fill=\"none\" stroke=\"black\" points=\"426,-0.5 426,-36.5 \"/>\n<text text-anchor=\"middle\" x=\"467\" y=\"-14.8\" font-family=\"Times,serif\" font-size=\"14.00\">grad 0.0000</text>\n</g>\n<!-- 140076809822864&#45;&gt;140076809814096+ -->\n<g id=\"edge8\" class=\"edge\">\n<title>140076809822864&#45;&gt;140076809814096+</title>\n<path fill=\"none\" stroke=\"black\" d=\"M508.4,-34.91C517.69,-36.5 526.64,-38.04 534.71,-39.43\"/>\n<polygon fill=\"black\" stroke=\"black\" points=\"534.32,-42.91 544.76,-41.16 535.5,-36.02 534.32,-42.91\"/>\n</g>\n<!-- 140076809823504 -->\n<g id=\"node9\" class=\"node\">\n<title>140076809823504</title>\n<polygon fill=\"none\" stroke=\"black\" points=\"0,-83.5 0,-119.5 190,-119.5 190,-83.5 0,-83.5\"/>\n<text text-anchor=\"middle\" x=\"11.5\" y=\"-97.8\" font-family=\"Times,serif\" font-size=\"14.00\">b</text>\n<polyline fill=\"none\" stroke=\"black\" points=\"23,-83.5 23,-119.5 \"/>\n<text text-anchor=\"middle\" x=\"65.5\" y=\"-97.8\" font-family=\"Times,serif\" font-size=\"14.00\">data &#45;3.0000</text>\n<polyline fill=\"none\" stroke=\"black\" points=\"108,-83.5 108,-119.5 \"/>\n<text text-anchor=\"middle\" x=\"149\" y=\"-97.8\" font-family=\"Times,serif\" font-size=\"14.00\">grad 0.0000</text>\n</g>\n<!-- 140076809823504&#45;&gt;140076809829968* -->\n<g id=\"edge6\" class=\"edge\">\n<title>140076809823504&#45;&gt;140076809829968*</title>\n<path fill=\"none\" stroke=\"black\" d=\"M190.34,-84.57C199.62,-82.9 208.58,-81.29 216.66,-79.84\"/>\n<polygon fill=\"black\" stroke=\"black\" points=\"217.49,-83.25 226.72,-78.04 216.26,-76.36 217.49,-83.25\"/>\n</g>\n<!-- 140076809827600 -->\n<g id=\"node10\" class=\"node\">\n<title>140076809827600</title>\n<polygon fill=\"none\" stroke=\"black\" points=\"2.5,-28.5 2.5,-64.5 187.5,-64.5 187.5,-28.5 2.5,-28.5\"/>\n<text text-anchor=\"middle\" x=\"14\" y=\"-42.8\" font-family=\"Times,serif\" font-size=\"14.00\">a</text>\n<polyline fill=\"none\" stroke=\"black\" points=\"25.5,-28.5 25.5,-64.5 \"/>\n<text text-anchor=\"middle\" x=\"65.5\" y=\"-42.8\" font-family=\"Times,serif\" font-size=\"14.00\">data 2.0000</text>\n<polyline fill=\"none\" stroke=\"black\" points=\"105.5,-28.5 105.5,-64.5 \"/>\n<text text-anchor=\"middle\" x=\"146.5\" y=\"-42.8\" font-family=\"Times,serif\" font-size=\"14.00\">grad 0.0000</text>\n</g>\n<!-- 140076809827600&#45;&gt;140076809829968* -->\n<g id=\"edge4\" class=\"edge\">\n<title>140076809827600&#45;&gt;140076809829968*</title>\n<path fill=\"none\" stroke=\"black\" d=\"M187.65,-62.36C197.94,-64.14 207.91,-65.87 216.81,-67.41\"/>\n<polygon fill=\"black\" stroke=\"black\" points=\"216.26,-70.87 226.71,-69.12 217.45,-63.97 216.26,-70.87\"/>\n</g>\n</g>\n</svg>\n",
            "text/plain": [
              "<graphviz.graphs.Digraph at 0x7f662c7bc090>"
            ]
          },
          "metadata": {},
          "execution_count": 7
        }
      ],
      "source": [
        "# manually creating the function 'L = ((a * b) + c) * f' with Value objects\n",
        "# note that we want to represent intermediate states so it's all trackable, even if these aren't 'true' inputs\n",
        "\n",
        "a = Value(2.0, label='a')\n",
        "b = Value(-3.0, label='b')\n",
        "c = Value(10.0, label='c')\n",
        "e = a*b; e.label = 'e'\n",
        "d = e+c; d.label = 'd'\n",
        "f = Value(-2, label='f')\n",
        "L = d * f; L.label = 'L'\n",
        "draw_dot(L)"
      ]
    },
    {
      "cell_type": "markdown",
      "source": [
        "Now let's talk about neurons.\n",
        "\n",
        "A real nueron takes multiple inputs from other neurons (dendrites), sums up all of those activations in some way, representing as:\n",
        "\n",
        " `sumall(inputs * weight) + bias (nucleus)`"
      ],
      "metadata": {
        "id": "oRqCb2rrHF_Z"
      }
    },
    {
      "cell_type": "markdown",
      "metadata": {
        "id": "PPjj1YeyCgqS"
      },
      "source": [
        "![Artifical Neuron](https://github.com/AloofBuddha/neural-nets-zero-to-hero/blob/main/resources/artificial-neuron.webp?raw=1)"
      ]
    },
    {
      "cell_type": "code",
      "execution_count": 8,
      "metadata": {
        "ExecuteTime": {
          "end_time": "2023-09-29T00:46:43.936284Z",
          "start_time": "2023-09-29T00:46:43.784604Z"
        },
        "id": "OtX_XRTbCgqT",
        "outputId": "e0562167-c364-4ded-d84e-c9bb5a1a7182",
        "colab": {
          "base_uri": "https://localhost:8080/",
          "height": 301
        }
      },
      "outputs": [
        {
          "output_type": "execute_result",
          "data": {
            "image/svg+xml": "<?xml version=\"1.0\" encoding=\"UTF-8\" standalone=\"no\"?>\n<!DOCTYPE svg PUBLIC \"-//W3C//DTD SVG 1.1//EN\"\n \"http://www.w3.org/Graphics/SVG/1.1/DTD/svg11.dtd\">\n<!-- Generated by graphviz version 2.43.0 (0)\n -->\n<!-- Title: %3 Pages: 1 -->\n<svg width=\"1575pt\" height=\"210pt\"\n viewBox=\"0.00 0.00 1575.00 210.00\" xmlns=\"http://www.w3.org/2000/svg\" xmlns:xlink=\"http://www.w3.org/1999/xlink\">\n<g id=\"graph0\" class=\"graph\" transform=\"scale(1 1) rotate(0) translate(4 206)\">\n<title>%3</title>\n<polygon fill=\"white\" stroke=\"transparent\" points=\"-4,4 -4,-206 1571,-206 1571,4 -4,4\"/>\n<!-- 140076809709072 -->\n<g id=\"node1\" class=\"node\">\n<title>140076809709072</title>\n<polygon fill=\"none\" stroke=\"black\" points=\"716,-137.5 716,-173.5 901,-173.5 901,-137.5 716,-137.5\"/>\n<text text-anchor=\"middle\" x=\"727.5\" y=\"-151.8\" font-family=\"Times,serif\" font-size=\"14.00\">b</text>\n<polyline fill=\"none\" stroke=\"black\" points=\"739,-137.5 739,-173.5 \"/>\n<text text-anchor=\"middle\" x=\"779\" y=\"-151.8\" font-family=\"Times,serif\" font-size=\"14.00\">data 6.8814</text>\n<polyline fill=\"none\" stroke=\"black\" points=\"819,-137.5 819,-173.5 \"/>\n<text text-anchor=\"middle\" x=\"860\" y=\"-151.8\" font-family=\"Times,serif\" font-size=\"14.00\">grad 0.5000</text>\n</g>\n<!-- 140076809704976+ -->\n<g id=\"node3\" class=\"node\">\n<title>140076809704976+</title>\n<ellipse fill=\"none\" stroke=\"black\" cx=\"1008\" cy=\"-127.5\" rx=\"27\" ry=\"18\"/>\n<text text-anchor=\"middle\" x=\"1008\" y=\"-123.8\" font-family=\"Times,serif\" font-size=\"14.00\">+</text>\n</g>\n<!-- 140076809709072&#45;&gt;140076809704976+ -->\n<g id=\"edge14\" class=\"edge\">\n<title>140076809709072&#45;&gt;140076809704976+</title>\n<path fill=\"none\" stroke=\"black\" d=\"M901.02,-142.52C926,-138.98 951.59,-135.36 971.37,-132.55\"/>\n<polygon fill=\"black\" stroke=\"black\" points=\"972.03,-135.99 981.43,-131.12 971.04,-129.06 972.03,-135.99\"/>\n</g>\n<!-- 140076809704976 -->\n<g id=\"node2\" class=\"node\">\n<title>140076809704976</title>\n<polygon fill=\"none\" stroke=\"black\" points=\"1071,-109.5 1071,-145.5 1256,-145.5 1256,-109.5 1071,-109.5\"/>\n<text text-anchor=\"middle\" x=\"1082.5\" y=\"-123.8\" font-family=\"Times,serif\" font-size=\"14.00\">n</text>\n<polyline fill=\"none\" stroke=\"black\" points=\"1094,-109.5 1094,-145.5 \"/>\n<text text-anchor=\"middle\" x=\"1134\" y=\"-123.8\" font-family=\"Times,serif\" font-size=\"14.00\">data 0.8814</text>\n<polyline fill=\"none\" stroke=\"black\" points=\"1174,-109.5 1174,-145.5 \"/>\n<text text-anchor=\"middle\" x=\"1215\" y=\"-123.8\" font-family=\"Times,serif\" font-size=\"14.00\">grad 0.5000</text>\n</g>\n<!-- 140076810495376tanh -->\n<g id=\"node15\" class=\"node\">\n<title>140076810495376tanh</title>\n<ellipse fill=\"none\" stroke=\"black\" cx=\"1319\" cy=\"-127.5\" rx=\"27\" ry=\"18\"/>\n<text text-anchor=\"middle\" x=\"1319\" y=\"-123.8\" font-family=\"Times,serif\" font-size=\"14.00\">tanh</text>\n</g>\n<!-- 140076809704976&#45;&gt;140076810495376tanh -->\n<g id=\"edge6\" class=\"edge\">\n<title>140076809704976&#45;&gt;140076810495376tanh</title>\n<path fill=\"none\" stroke=\"black\" d=\"M1256.01,-127.5C1265.01,-127.5 1273.74,-127.5 1281.66,-127.5\"/>\n<polygon fill=\"black\" stroke=\"black\" points=\"1281.91,-131 1291.91,-127.5 1281.91,-124 1281.91,-131\"/>\n</g>\n<!-- 140076809704976+&#45;&gt;140076809704976 -->\n<g id=\"edge1\" class=\"edge\">\n<title>140076809704976+&#45;&gt;140076809704976</title>\n<path fill=\"none\" stroke=\"black\" d=\"M1035.04,-127.5C1042.58,-127.5 1051.3,-127.5 1060.57,-127.5\"/>\n<polygon fill=\"black\" stroke=\"black\" points=\"1060.81,-131 1070.81,-127.5 1060.81,-124 1060.81,-131\"/>\n</g>\n<!-- 140076809702992 -->\n<g id=\"node4\" class=\"node\">\n<title>140076809702992</title>\n<polygon fill=\"none\" stroke=\"black\" points=\"326,-110.5 326,-146.5 546,-146.5 546,-110.5 326,-110.5\"/>\n<text text-anchor=\"middle\" x=\"352.5\" y=\"-124.8\" font-family=\"Times,serif\" font-size=\"14.00\">x1*w1</text>\n<polyline fill=\"none\" stroke=\"black\" points=\"379,-110.5 379,-146.5 \"/>\n<text text-anchor=\"middle\" x=\"421.5\" y=\"-124.8\" font-family=\"Times,serif\" font-size=\"14.00\">data &#45;6.0000</text>\n<polyline fill=\"none\" stroke=\"black\" points=\"464,-110.5 464,-146.5 \"/>\n<text text-anchor=\"middle\" x=\"505\" y=\"-124.8\" font-family=\"Times,serif\" font-size=\"14.00\">grad 0.5000</text>\n</g>\n<!-- 140076809705808+ -->\n<g id=\"node13\" class=\"node\">\n<title>140076809705808+</title>\n<ellipse fill=\"none\" stroke=\"black\" cx=\"609\" cy=\"-100.5\" rx=\"27\" ry=\"18\"/>\n<text text-anchor=\"middle\" x=\"609\" y=\"-96.8\" font-family=\"Times,serif\" font-size=\"14.00\">+</text>\n</g>\n<!-- 140076809702992&#45;&gt;140076809705808+ -->\n<g id=\"edge11\" class=\"edge\">\n<title>140076809702992&#45;&gt;140076809705808+</title>\n<path fill=\"none\" stroke=\"black\" d=\"M546.27,-110.61C555.64,-109.07 564.6,-107.61 572.65,-106.29\"/>\n<polygon fill=\"black\" stroke=\"black\" points=\"573.35,-109.72 582.65,-104.65 572.22,-102.81 573.35,-109.72\"/>\n</g>\n<!-- 140076809702992* -->\n<g id=\"node5\" class=\"node\">\n<title>140076809702992*</title>\n<ellipse fill=\"none\" stroke=\"black\" cx=\"263\" cy=\"-128.5\" rx=\"27\" ry=\"18\"/>\n<text text-anchor=\"middle\" x=\"263\" y=\"-124.8\" font-family=\"Times,serif\" font-size=\"14.00\">*</text>\n</g>\n<!-- 140076809702992*&#45;&gt;140076809702992 -->\n<g id=\"edge2\" class=\"edge\">\n<title>140076809702992*&#45;&gt;140076809702992</title>\n<path fill=\"none\" stroke=\"black\" d=\"M290.34,-128.5C297.77,-128.5 306.37,-128.5 315.6,-128.5\"/>\n<polygon fill=\"black\" stroke=\"black\" points=\"315.84,-132 325.84,-128.5 315.84,-125 315.84,-132\"/>\n</g>\n<!-- 140076809705616 -->\n<g id=\"node6\" class=\"node\">\n<title>140076809705616</title>\n<polygon fill=\"none\" stroke=\"black\" points=\"2.5,-55.5 2.5,-91.5 197.5,-91.5 197.5,-55.5 2.5,-55.5\"/>\n<text text-anchor=\"middle\" x=\"19\" y=\"-69.8\" font-family=\"Times,serif\" font-size=\"14.00\">w2</text>\n<polyline fill=\"none\" stroke=\"black\" points=\"35.5,-55.5 35.5,-91.5 \"/>\n<text text-anchor=\"middle\" x=\"75.5\" y=\"-69.8\" font-family=\"Times,serif\" font-size=\"14.00\">data 1.0000</text>\n<polyline fill=\"none\" stroke=\"black\" points=\"115.5,-55.5 115.5,-91.5 \"/>\n<text text-anchor=\"middle\" x=\"156.5\" y=\"-69.8\" font-family=\"Times,serif\" font-size=\"14.00\">grad 0.0000</text>\n</g>\n<!-- 140076809713424* -->\n<g id=\"node9\" class=\"node\">\n<title>140076809713424*</title>\n<ellipse fill=\"none\" stroke=\"black\" cx=\"263\" cy=\"-73.5\" rx=\"27\" ry=\"18\"/>\n<text text-anchor=\"middle\" x=\"263\" y=\"-69.8\" font-family=\"Times,serif\" font-size=\"14.00\">*</text>\n</g>\n<!-- 140076809705616&#45;&gt;140076809713424* -->\n<g id=\"edge7\" class=\"edge\">\n<title>140076809705616&#45;&gt;140076809713424*</title>\n<path fill=\"none\" stroke=\"black\" d=\"M197.91,-73.5C207.65,-73.5 217.05,-73.5 225.52,-73.5\"/>\n<polygon fill=\"black\" stroke=\"black\" points=\"225.7,-77 235.7,-73.5 225.7,-70 225.7,-77\"/>\n</g>\n<!-- 140076809712336 -->\n<g id=\"node7\" class=\"node\">\n<title>140076809712336</title>\n<polygon fill=\"none\" stroke=\"black\" points=\"2,-165.5 2,-201.5 198,-201.5 198,-165.5 2,-165.5\"/>\n<text text-anchor=\"middle\" x=\"17\" y=\"-179.8\" font-family=\"Times,serif\" font-size=\"14.00\">x1</text>\n<polyline fill=\"none\" stroke=\"black\" points=\"32,-165.5 32,-201.5 \"/>\n<text text-anchor=\"middle\" x=\"72\" y=\"-179.8\" font-family=\"Times,serif\" font-size=\"14.00\">data 2.0000</text>\n<polyline fill=\"none\" stroke=\"black\" points=\"112,-165.5 112,-201.5 \"/>\n<text text-anchor=\"middle\" x=\"155\" y=\"-179.8\" font-family=\"Times,serif\" font-size=\"14.00\">grad &#45;1.5000</text>\n</g>\n<!-- 140076809712336&#45;&gt;140076809702992* -->\n<g id=\"edge10\" class=\"edge\">\n<title>140076809712336&#45;&gt;140076809702992*</title>\n<path fill=\"none\" stroke=\"black\" d=\"M172.53,-165.44C181.84,-162.67 191.2,-159.67 200,-156.5 210.53,-152.71 221.75,-147.9 231.72,-143.33\"/>\n<polygon fill=\"black\" stroke=\"black\" points=\"233.25,-146.48 240.82,-139.07 230.28,-140.14 233.25,-146.48\"/>\n</g>\n<!-- 140076809713424 -->\n<g id=\"node8\" class=\"node\">\n<title>140076809713424</title>\n<polygon fill=\"none\" stroke=\"black\" points=\"328.5,-55.5 328.5,-91.5 543.5,-91.5 543.5,-55.5 328.5,-55.5\"/>\n<text text-anchor=\"middle\" x=\"355\" y=\"-69.8\" font-family=\"Times,serif\" font-size=\"14.00\">x2*w2</text>\n<polyline fill=\"none\" stroke=\"black\" points=\"381.5,-55.5 381.5,-91.5 \"/>\n<text text-anchor=\"middle\" x=\"421.5\" y=\"-69.8\" font-family=\"Times,serif\" font-size=\"14.00\">data 0.0000</text>\n<polyline fill=\"none\" stroke=\"black\" points=\"461.5,-55.5 461.5,-91.5 \"/>\n<text text-anchor=\"middle\" x=\"502.5\" y=\"-69.8\" font-family=\"Times,serif\" font-size=\"14.00\">grad 0.5000</text>\n</g>\n<!-- 140076809713424&#45;&gt;140076809705808+ -->\n<g id=\"edge8\" class=\"edge\">\n<title>140076809713424&#45;&gt;140076809705808+</title>\n<path fill=\"none\" stroke=\"black\" d=\"M543.84,-90.37C554.01,-91.98 563.76,-93.51 572.44,-94.89\"/>\n<polygon fill=\"black\" stroke=\"black\" points=\"572.05,-98.37 582.47,-96.47 573.14,-91.45 572.05,-98.37\"/>\n</g>\n<!-- 140076809713424*&#45;&gt;140076809713424 -->\n<g id=\"edge3\" class=\"edge\">\n<title>140076809713424*&#45;&gt;140076809713424</title>\n<path fill=\"none\" stroke=\"black\" d=\"M290.34,-73.5C298.51,-73.5 308.08,-73.5 318.36,-73.5\"/>\n<polygon fill=\"black\" stroke=\"black\" points=\"318.39,-77 328.39,-73.5 318.39,-70 318.39,-77\"/>\n</g>\n<!-- 140076809709456 -->\n<g id=\"node10\" class=\"node\">\n<title>140076809709456</title>\n<polygon fill=\"none\" stroke=\"black\" points=\"4,-0.5 4,-36.5 196,-36.5 196,-0.5 4,-0.5\"/>\n<text text-anchor=\"middle\" x=\"19\" y=\"-14.8\" font-family=\"Times,serif\" font-size=\"14.00\">x2</text>\n<polyline fill=\"none\" stroke=\"black\" points=\"34,-0.5 34,-36.5 \"/>\n<text text-anchor=\"middle\" x=\"74\" y=\"-14.8\" font-family=\"Times,serif\" font-size=\"14.00\">data 0.0000</text>\n<polyline fill=\"none\" stroke=\"black\" points=\"114,-0.5 114,-36.5 \"/>\n<text text-anchor=\"middle\" x=\"155\" y=\"-14.8\" font-family=\"Times,serif\" font-size=\"14.00\">grad 0.5000</text>\n</g>\n<!-- 140076809709456&#45;&gt;140076809713424* -->\n<g id=\"edge12\" class=\"edge\">\n<title>140076809709456&#45;&gt;140076809713424*</title>\n<path fill=\"none\" stroke=\"black\" d=\"M169.28,-36.5C179.65,-39.61 190.16,-42.98 200,-46.5 210.28,-50.17 221.28,-54.74 231.11,-59.07\"/>\n<polygon fill=\"black\" stroke=\"black\" points=\"229.93,-62.37 240.48,-63.27 232.79,-55.99 229.93,-62.37\"/>\n</g>\n<!-- 140076809705744 -->\n<g id=\"node11\" class=\"node\">\n<title>140076809705744</title>\n<polygon fill=\"none\" stroke=\"black\" points=\"0,-110.5 0,-146.5 200,-146.5 200,-110.5 0,-110.5\"/>\n<text text-anchor=\"middle\" x=\"16.5\" y=\"-124.8\" font-family=\"Times,serif\" font-size=\"14.00\">w1</text>\n<polyline fill=\"none\" stroke=\"black\" points=\"33,-110.5 33,-146.5 \"/>\n<text text-anchor=\"middle\" x=\"75.5\" y=\"-124.8\" font-family=\"Times,serif\" font-size=\"14.00\">data &#45;3.0000</text>\n<polyline fill=\"none\" stroke=\"black\" points=\"118,-110.5 118,-146.5 \"/>\n<text text-anchor=\"middle\" x=\"159\" y=\"-124.8\" font-family=\"Times,serif\" font-size=\"14.00\">grad 1.0000</text>\n</g>\n<!-- 140076809705744&#45;&gt;140076809702992* -->\n<g id=\"edge9\" class=\"edge\">\n<title>140076809705744&#45;&gt;140076809702992*</title>\n<path fill=\"none\" stroke=\"black\" d=\"M200.21,-128.5C209.2,-128.5 217.86,-128.5 225.7,-128.5\"/>\n<polygon fill=\"black\" stroke=\"black\" points=\"225.85,-132 235.85,-128.5 225.85,-125 225.85,-132\"/>\n</g>\n<!-- 140076809705808 -->\n<g id=\"node12\" class=\"node\">\n<title>140076809705808</title>\n<polygon fill=\"none\" stroke=\"black\" points=\"672,-82.5 672,-118.5 945,-118.5 945,-82.5 672,-82.5\"/>\n<text text-anchor=\"middle\" x=\"725\" y=\"-96.8\" font-family=\"Times,serif\" font-size=\"14.00\">x1*w1 + x2*w2</text>\n<polyline fill=\"none\" stroke=\"black\" points=\"778,-82.5 778,-118.5 \"/>\n<text text-anchor=\"middle\" x=\"820.5\" y=\"-96.8\" font-family=\"Times,serif\" font-size=\"14.00\">data &#45;6.0000</text>\n<polyline fill=\"none\" stroke=\"black\" points=\"863,-82.5 863,-118.5 \"/>\n<text text-anchor=\"middle\" x=\"904\" y=\"-96.8\" font-family=\"Times,serif\" font-size=\"14.00\">grad 0.5000</text>\n</g>\n<!-- 140076809705808&#45;&gt;140076809704976+ -->\n<g id=\"edge13\" class=\"edge\">\n<title>140076809705808&#45;&gt;140076809704976+</title>\n<path fill=\"none\" stroke=\"black\" d=\"M941.24,-118.51C952.12,-120 962.4,-121.4 971.45,-122.64\"/>\n<polygon fill=\"black\" stroke=\"black\" points=\"971.11,-126.13 981.49,-124.01 972.05,-119.19 971.11,-126.13\"/>\n</g>\n<!-- 140076809705808+&#45;&gt;140076809705808 -->\n<g id=\"edge4\" class=\"edge\">\n<title>140076809705808+&#45;&gt;140076809705808</title>\n<path fill=\"none\" stroke=\"black\" d=\"M636.23,-100.5C643.7,-100.5 652.41,-100.5 661.87,-100.5\"/>\n<polygon fill=\"black\" stroke=\"black\" points=\"661.98,-104 671.98,-100.5 661.98,-97 661.98,-104\"/>\n</g>\n<!-- 140076810495376 -->\n<g id=\"node14\" class=\"node\">\n<title>140076810495376</title>\n<polygon fill=\"none\" stroke=\"black\" points=\"1382,-109.5 1382,-145.5 1567,-145.5 1567,-109.5 1382,-109.5\"/>\n<text text-anchor=\"middle\" x=\"1393.5\" y=\"-123.8\" font-family=\"Times,serif\" font-size=\"14.00\">o</text>\n<polyline fill=\"none\" stroke=\"black\" points=\"1405,-109.5 1405,-145.5 \"/>\n<text text-anchor=\"middle\" x=\"1445\" y=\"-123.8\" font-family=\"Times,serif\" font-size=\"14.00\">data 0.7071</text>\n<polyline fill=\"none\" stroke=\"black\" points=\"1485,-109.5 1485,-145.5 \"/>\n<text text-anchor=\"middle\" x=\"1526\" y=\"-123.8\" font-family=\"Times,serif\" font-size=\"14.00\">grad 1.0000</text>\n</g>\n<!-- 140076810495376tanh&#45;&gt;140076810495376 -->\n<g id=\"edge5\" class=\"edge\">\n<title>140076810495376tanh&#45;&gt;140076810495376</title>\n<path fill=\"none\" stroke=\"black\" d=\"M1346.04,-127.5C1353.58,-127.5 1362.3,-127.5 1371.57,-127.5\"/>\n<polygon fill=\"black\" stroke=\"black\" points=\"1371.81,-131 1381.81,-127.5 1371.81,-124 1371.81,-131\"/>\n</g>\n</g>\n</svg>\n",
            "text/plain": [
              "<graphviz.graphs.Digraph at 0x7f662c8bb190>"
            ]
          },
          "metadata": {},
          "execution_count": 8
        }
      ],
      "source": [
        "# Manually creatting a single neuron\n",
        "\n",
        "# inputs x1, x2\n",
        "x1 = Value(2.0, label='x1')\n",
        "x2 = Value(0.0, label='x2')\n",
        "\n",
        "# weights (synaptic strength, scales the related input)\n",
        "w1 = Value(-3.0, label='w1')\n",
        "w2 = Value(1.0, label='w2')\n",
        "\n",
        "# bias of neuron itself, how much it wants to encourage or supress activation\n",
        "# (bias was arbitrarily chosen to give us near-integer values)\n",
        "b = Value(6.8813735870195432, label='b')\n",
        "\n",
        "# computational graph for this neuron ie sum_all(xn * wn)\n",
        "x1w1 = x1*w1; x1w1.label = 'x1*w1'\n",
        "x2w2 = x2*w2; x2w2.label = 'x2*w2'\n",
        "sum_all_inputs = x1w1 + x2w2; sum_all_inputs.label = 'x1*w1 + x2*w2'\n",
        "n = sum_all_inputs + b; n.label = 'n'\n",
        "\n",
        "# activation function will squash the number nicely between -1 and 1 making it easy to create a decision boundary, let's say at 0\n",
        "o = n.tanh(); o.label = 'o'\n",
        "\n",
        "# backprop allows us to work backwards from the final expression to compute the gradient for each input\n",
        "o.backward()\n",
        "\n",
        "draw_dot(o)"
      ]
    },
    {
      "cell_type": "code",
      "execution_count": 9,
      "metadata": {
        "ExecuteTime": {
          "end_time": "2023-09-29T00:46:44.090461Z",
          "start_time": "2023-09-29T00:46:43.936888Z"
        },
        "id": "4ee42lWZCgqU",
        "outputId": "d58174cf-29f2-4efb-ca95-2d2ed2325e6a",
        "colab": {
          "base_uri": "https://localhost:8080/",
          "height": 360
        }
      },
      "outputs": [
        {
          "output_type": "execute_result",
          "data": {
            "image/svg+xml": "<?xml version=\"1.0\" encoding=\"UTF-8\" standalone=\"no\"?>\n<!DOCTYPE svg PUBLIC \"-//W3C//DTD SVG 1.1//EN\"\n \"http://www.w3.org/Graphics/SVG/1.1/DTD/svg11.dtd\">\n<!-- Generated by graphviz version 2.43.0 (0)\n -->\n<!-- Title: %3 Pages: 1 -->\n<svg width=\"2944pt\" height=\"239pt\"\n viewBox=\"0.00 0.00 2944.00 239.00\" xmlns=\"http://www.w3.org/2000/svg\" xmlns:xlink=\"http://www.w3.org/1999/xlink\">\n<g id=\"graph0\" class=\"graph\" transform=\"scale(1 1) rotate(0) translate(4 235)\">\n<title>%3</title>\n<polygon fill=\"white\" stroke=\"transparent\" points=\"-4,4 -4,-235 2940,-235 2940,4 -4,4\"/>\n<!-- 140076810657808 -->\n<g id=\"node1\" class=\"node\">\n<title>140076810657808</title>\n<polygon fill=\"none\" stroke=\"black\" points=\"1692.5,-55.5 1692.5,-91.5 1874.5,-91.5 1874.5,-55.5 1692.5,-55.5\"/>\n<text text-anchor=\"middle\" x=\"1702.5\" y=\"-69.8\" font-family=\"Times,serif\" font-size=\"14.00\"> </text>\n<polyline fill=\"none\" stroke=\"black\" points=\"1712.5,-55.5 1712.5,-91.5 \"/>\n<text text-anchor=\"middle\" x=\"1752.5\" y=\"-69.8\" font-family=\"Times,serif\" font-size=\"14.00\">data 5.8284</text>\n<polyline fill=\"none\" stroke=\"black\" points=\"1792.5,-55.5 1792.5,-91.5 \"/>\n<text text-anchor=\"middle\" x=\"1833.5\" y=\"-69.8\" font-family=\"Times,serif\" font-size=\"14.00\">grad 0.0429</text>\n</g>\n<!-- 140076809328336+ -->\n<g id=\"node13\" class=\"node\">\n<title>140076809328336+</title>\n<ellipse fill=\"none\" stroke=\"black\" cx=\"1940\" cy=\"-45.5\" rx=\"27\" ry=\"18\"/>\n<text text-anchor=\"middle\" x=\"1940\" y=\"-41.8\" font-family=\"Times,serif\" font-size=\"14.00\">+</text>\n</g>\n<!-- 140076810657808&#45;&gt;140076809328336+ -->\n<g id=\"edge22\" class=\"edge\">\n<title>140076810657808&#45;&gt;140076809328336+</title>\n<path fill=\"none\" stroke=\"black\" d=\"M1874.82,-57.13C1885.07,-55.27 1895.01,-53.47 1903.88,-51.87\"/>\n<polygon fill=\"black\" stroke=\"black\" points=\"1904.54,-55.3 1913.75,-50.08 1903.29,-48.42 1904.54,-55.3\"/>\n</g>\n<!-- 140076809325008+ -->\n<g id=\"node21\" class=\"node\">\n<title>140076809325008+</title>\n<ellipse fill=\"none\" stroke=\"black\" cx=\"1940\" cy=\"-100.5\" rx=\"27\" ry=\"18\"/>\n<text text-anchor=\"middle\" x=\"1940\" y=\"-96.8\" font-family=\"Times,serif\" font-size=\"14.00\">+</text>\n</g>\n<!-- 140076810657808&#45;&gt;140076809325008+ -->\n<g id=\"edge17\" class=\"edge\">\n<title>140076810657808&#45;&gt;140076809325008+</title>\n<path fill=\"none\" stroke=\"black\" d=\"M1874.82,-89.28C1885.07,-91.08 1895.01,-92.81 1903.88,-94.36\"/>\n<polygon fill=\"black\" stroke=\"black\" points=\"1903.3,-97.81 1913.75,-96.09 1904.5,-90.92 1903.3,-97.81\"/>\n</g>\n<!-- 140076810657808exp -->\n<g id=\"node2\" class=\"node\">\n<title>140076810657808exp</title>\n<ellipse fill=\"none\" stroke=\"black\" cx=\"1627\" cy=\"-73.5\" rx=\"27\" ry=\"18\"/>\n<text text-anchor=\"middle\" x=\"1627\" y=\"-69.8\" font-family=\"Times,serif\" font-size=\"14.00\">exp</text>\n</g>\n<!-- 140076810657808exp&#45;&gt;140076810657808 -->\n<g id=\"edge1\" class=\"edge\">\n<title>140076810657808exp&#45;&gt;140076810657808</title>\n<path fill=\"none\" stroke=\"black\" d=\"M1654.21,-73.5C1662.34,-73.5 1671.85,-73.5 1681.94,-73.5\"/>\n<polygon fill=\"black\" stroke=\"black\" points=\"1682.19,-77 1692.19,-73.5 1682.19,-70 1682.19,-77\"/>\n</g>\n<!-- 140076809328144 -->\n<g id=\"node3\" class=\"node\">\n<title>140076809328144</title>\n<polygon fill=\"none\" stroke=\"black\" points=\"2443,-80.5 2443,-116.5 2625,-116.5 2625,-80.5 2443,-80.5\"/>\n<text text-anchor=\"middle\" x=\"2453\" y=\"-94.8\" font-family=\"Times,serif\" font-size=\"14.00\"> </text>\n<polyline fill=\"none\" stroke=\"black\" points=\"2463,-80.5 2463,-116.5 \"/>\n<text text-anchor=\"middle\" x=\"2503\" y=\"-94.8\" font-family=\"Times,serif\" font-size=\"14.00\">data 0.1464</text>\n<polyline fill=\"none\" stroke=\"black\" points=\"2543,-80.5 2543,-116.5 \"/>\n<text text-anchor=\"middle\" x=\"2584\" y=\"-94.8\" font-family=\"Times,serif\" font-size=\"14.00\">grad 4.8284</text>\n</g>\n<!-- 140076809331536* -->\n<g id=\"node19\" class=\"node\">\n<title>140076809331536*</title>\n<ellipse fill=\"none\" stroke=\"black\" cx=\"2688\" cy=\"-72.5\" rx=\"27\" ry=\"18\"/>\n<text text-anchor=\"middle\" x=\"2688\" y=\"-68.8\" font-family=\"Times,serif\" font-size=\"14.00\">*</text>\n</g>\n<!-- 140076809328144&#45;&gt;140076809331536* -->\n<g id=\"edge11\" class=\"edge\">\n<title>140076809328144&#45;&gt;140076809331536*</title>\n<path fill=\"none\" stroke=\"black\" d=\"M2625.18,-83.08C2634.42,-81.49 2643.38,-79.96 2651.47,-78.58\"/>\n<polygon fill=\"black\" stroke=\"black\" points=\"2652.29,-81.99 2661.56,-76.85 2651.11,-75.09 2652.29,-81.99\"/>\n</g>\n<!-- 140076809328144**&#45;1 -->\n<g id=\"node4\" class=\"node\">\n<title>140076809328144**&#45;1</title>\n<ellipse fill=\"none\" stroke=\"black\" cx=\"2316\" cy=\"-100.5\" rx=\"27\" ry=\"18\"/>\n<text text-anchor=\"middle\" x=\"2316\" y=\"-96.8\" font-family=\"Times,serif\" font-size=\"14.00\">**&#45;1</text>\n</g>\n<!-- 140076809328144**&#45;1&#45;&gt;140076809328144 -->\n<g id=\"edge2\" class=\"edge\">\n<title>140076809328144**&#45;1&#45;&gt;140076809328144</title>\n<path fill=\"none\" stroke=\"black\" d=\"M2343.05,-100.26C2365.53,-100.05 2399.48,-99.74 2432.5,-99.43\"/>\n<polygon fill=\"black\" stroke=\"black\" points=\"2432.74,-102.93 2442.7,-99.34 2432.67,-95.93 2432.74,-102.93\"/>\n</g>\n<!-- 140076810656784 -->\n<g id=\"node5\" class=\"node\">\n<title>140076810656784</title>\n<polygon fill=\"none\" stroke=\"black\" points=\"326,-139.5 326,-175.5 546,-175.5 546,-139.5 326,-139.5\"/>\n<text text-anchor=\"middle\" x=\"352.5\" y=\"-153.8\" font-family=\"Times,serif\" font-size=\"14.00\">x1*w1</text>\n<polyline fill=\"none\" stroke=\"black\" points=\"379,-139.5 379,-175.5 \"/>\n<text text-anchor=\"middle\" x=\"421.5\" y=\"-153.8\" font-family=\"Times,serif\" font-size=\"14.00\">data &#45;6.0000</text>\n<polyline fill=\"none\" stroke=\"black\" points=\"464,-139.5 464,-175.5 \"/>\n<text text-anchor=\"middle\" x=\"505\" y=\"-153.8\" font-family=\"Times,serif\" font-size=\"14.00\">grad 0.5000</text>\n</g>\n<!-- 140076810665616+ -->\n<g id=\"node10\" class=\"node\">\n<title>140076810665616+</title>\n<ellipse fill=\"none\" stroke=\"black\" cx=\"609\" cy=\"-129.5\" rx=\"27\" ry=\"18\"/>\n<text text-anchor=\"middle\" x=\"609\" y=\"-125.8\" font-family=\"Times,serif\" font-size=\"14.00\">+</text>\n</g>\n<!-- 140076810656784&#45;&gt;140076810665616+ -->\n<g id=\"edge16\" class=\"edge\">\n<title>140076810656784&#45;&gt;140076810665616+</title>\n<path fill=\"none\" stroke=\"black\" d=\"M546.27,-139.61C555.64,-138.07 564.6,-136.61 572.65,-135.29\"/>\n<polygon fill=\"black\" stroke=\"black\" points=\"573.35,-138.72 582.65,-133.65 572.22,-131.81 573.35,-138.72\"/>\n</g>\n<!-- 140076810656784* -->\n<g id=\"node6\" class=\"node\">\n<title>140076810656784*</title>\n<ellipse fill=\"none\" stroke=\"black\" cx=\"263\" cy=\"-157.5\" rx=\"27\" ry=\"18\"/>\n<text text-anchor=\"middle\" x=\"263\" y=\"-153.8\" font-family=\"Times,serif\" font-size=\"14.00\">*</text>\n</g>\n<!-- 140076810656784*&#45;&gt;140076810656784 -->\n<g id=\"edge3\" class=\"edge\">\n<title>140076810656784*&#45;&gt;140076810656784</title>\n<path fill=\"none\" stroke=\"black\" d=\"M290.34,-157.5C297.77,-157.5 306.37,-157.5 315.6,-157.5\"/>\n<polygon fill=\"black\" stroke=\"black\" points=\"315.84,-161 325.84,-157.5 315.84,-154 315.84,-161\"/>\n</g>\n<!-- 140076810736656 -->\n<g id=\"node7\" class=\"node\">\n<title>140076810736656</title>\n<polygon fill=\"none\" stroke=\"black\" points=\"1690,-0.5 1690,-36.5 1877,-36.5 1877,-0.5 1690,-0.5\"/>\n<text text-anchor=\"middle\" x=\"1700\" y=\"-14.8\" font-family=\"Times,serif\" font-size=\"14.00\"> </text>\n<polyline fill=\"none\" stroke=\"black\" points=\"1710,-0.5 1710,-36.5 \"/>\n<text text-anchor=\"middle\" x=\"1752.5\" y=\"-14.8\" font-family=\"Times,serif\" font-size=\"14.00\">data &#45;1.0000</text>\n<polyline fill=\"none\" stroke=\"black\" points=\"1795,-0.5 1795,-36.5 \"/>\n<text text-anchor=\"middle\" x=\"1836\" y=\"-14.8\" font-family=\"Times,serif\" font-size=\"14.00\">grad 0.1464</text>\n</g>\n<!-- 140076810736656&#45;&gt;140076809328336+ -->\n<g id=\"edge27\" class=\"edge\">\n<title>140076810736656&#45;&gt;140076809328336+</title>\n<path fill=\"none\" stroke=\"black\" d=\"M1877.05,-34.67C1886.34,-36.3 1895.33,-37.87 1903.44,-39.29\"/>\n<polygon fill=\"black\" stroke=\"black\" points=\"1903.1,-42.78 1913.55,-41.05 1904.3,-35.88 1903.1,-42.78\"/>\n</g>\n<!-- 140076809334224 -->\n<g id=\"node8\" class=\"node\">\n<title>140076809334224</title>\n<polygon fill=\"none\" stroke=\"black\" points=\"1690.5,-110.5 1690.5,-146.5 1876.5,-146.5 1876.5,-110.5 1690.5,-110.5\"/>\n<text text-anchor=\"middle\" x=\"1700.5\" y=\"-124.8\" font-family=\"Times,serif\" font-size=\"14.00\"> </text>\n<polyline fill=\"none\" stroke=\"black\" points=\"1710.5,-110.5 1710.5,-146.5 \"/>\n<text text-anchor=\"middle\" x=\"1750.5\" y=\"-124.8\" font-family=\"Times,serif\" font-size=\"14.00\">data 1.0000</text>\n<polyline fill=\"none\" stroke=\"black\" points=\"1790.5,-110.5 1790.5,-146.5 \"/>\n<text text-anchor=\"middle\" x=\"1833.5\" y=\"-124.8\" font-family=\"Times,serif\" font-size=\"14.00\">grad &#45;0.1036</text>\n</g>\n<!-- 140076809334224&#45;&gt;140076809325008+ -->\n<g id=\"edge20\" class=\"edge\">\n<title>140076809334224&#45;&gt;140076809325008+</title>\n<path fill=\"none\" stroke=\"black\" d=\"M1876.6,-111.81C1886.15,-110.08 1895.37,-108.41 1903.68,-106.9\"/>\n<polygon fill=\"black\" stroke=\"black\" points=\"1904.43,-110.32 1913.65,-105.09 1903.18,-103.43 1904.43,-110.32\"/>\n</g>\n<!-- 140076810665616 -->\n<g id=\"node9\" class=\"node\">\n<title>140076810665616</title>\n<polygon fill=\"none\" stroke=\"black\" points=\"672,-111.5 672,-147.5 945,-147.5 945,-111.5 672,-111.5\"/>\n<text text-anchor=\"middle\" x=\"725\" y=\"-125.8\" font-family=\"Times,serif\" font-size=\"14.00\">x1*w1 + x2*w2</text>\n<polyline fill=\"none\" stroke=\"black\" points=\"778,-111.5 778,-147.5 \"/>\n<text text-anchor=\"middle\" x=\"820.5\" y=\"-125.8\" font-family=\"Times,serif\" font-size=\"14.00\">data &#45;6.0000</text>\n<polyline fill=\"none\" stroke=\"black\" points=\"863,-111.5 863,-147.5 \"/>\n<text text-anchor=\"middle\" x=\"904\" y=\"-125.8\" font-family=\"Times,serif\" font-size=\"14.00\">grad 0.5000</text>\n</g>\n<!-- 140076810665744+ -->\n<g id=\"node15\" class=\"node\">\n<title>140076810665744+</title>\n<ellipse fill=\"none\" stroke=\"black\" cx=\"1008\" cy=\"-101.5\" rx=\"27\" ry=\"18\"/>\n<text text-anchor=\"middle\" x=\"1008\" y=\"-97.8\" font-family=\"Times,serif\" font-size=\"14.00\">+</text>\n</g>\n<!-- 140076810665616&#45;&gt;140076810665744+ -->\n<g id=\"edge26\" class=\"edge\">\n<title>140076810665616&#45;&gt;140076810665744+</title>\n<path fill=\"none\" stroke=\"black\" d=\"M936.53,-111.49C949.09,-109.71 960.99,-108.02 971.3,-106.56\"/>\n<polygon fill=\"black\" stroke=\"black\" points=\"972.03,-109.99 981.44,-105.12 971.05,-103.06 972.03,-109.99\"/>\n</g>\n<!-- 140076810665616+&#45;&gt;140076810665616 -->\n<g id=\"edge4\" class=\"edge\">\n<title>140076810665616+&#45;&gt;140076810665616</title>\n<path fill=\"none\" stroke=\"black\" d=\"M636.23,-129.5C643.7,-129.5 652.41,-129.5 661.87,-129.5\"/>\n<polygon fill=\"black\" stroke=\"black\" points=\"661.98,-133 671.98,-129.5 661.98,-126 661.98,-133\"/>\n</g>\n<!-- 140076810653840 -->\n<g id=\"node11\" class=\"node\">\n<title>140076810653840</title>\n<polygon fill=\"none\" stroke=\"black\" points=\"0,-194.5 0,-230.5 200,-230.5 200,-194.5 0,-194.5\"/>\n<text text-anchor=\"middle\" x=\"16.5\" y=\"-208.8\" font-family=\"Times,serif\" font-size=\"14.00\">w1</text>\n<polyline fill=\"none\" stroke=\"black\" points=\"33,-194.5 33,-230.5 \"/>\n<text text-anchor=\"middle\" x=\"75.5\" y=\"-208.8\" font-family=\"Times,serif\" font-size=\"14.00\">data &#45;3.0000</text>\n<polyline fill=\"none\" stroke=\"black\" points=\"118,-194.5 118,-230.5 \"/>\n<text text-anchor=\"middle\" x=\"159\" y=\"-208.8\" font-family=\"Times,serif\" font-size=\"14.00\">grad 1.0000</text>\n</g>\n<!-- 140076810653840&#45;&gt;140076810656784* -->\n<g id=\"edge28\" class=\"edge\">\n<title>140076810653840&#45;&gt;140076810656784*</title>\n<path fill=\"none\" stroke=\"black\" d=\"M172.53,-194.44C181.84,-191.67 191.2,-188.67 200,-185.5 210.53,-181.71 221.75,-176.9 231.72,-172.33\"/>\n<polygon fill=\"black\" stroke=\"black\" points=\"233.25,-175.48 240.82,-168.07 230.28,-169.14 233.25,-175.48\"/>\n</g>\n<!-- 140076809328336 -->\n<g id=\"node12\" class=\"node\">\n<title>140076809328336</title>\n<polygon fill=\"none\" stroke=\"black\" points=\"2225,-27.5 2225,-63.5 2407,-63.5 2407,-27.5 2225,-27.5\"/>\n<text text-anchor=\"middle\" x=\"2235\" y=\"-41.8\" font-family=\"Times,serif\" font-size=\"14.00\"> </text>\n<polyline fill=\"none\" stroke=\"black\" points=\"2245,-27.5 2245,-63.5 \"/>\n<text text-anchor=\"middle\" x=\"2285\" y=\"-41.8\" font-family=\"Times,serif\" font-size=\"14.00\">data 4.8284</text>\n<polyline fill=\"none\" stroke=\"black\" points=\"2325,-27.5 2325,-63.5 \"/>\n<text text-anchor=\"middle\" x=\"2366\" y=\"-41.8\" font-family=\"Times,serif\" font-size=\"14.00\">grad 0.1464</text>\n</g>\n<!-- 140076809328336&#45;&gt;140076809331536* -->\n<g id=\"edge21\" class=\"edge\">\n<title>140076809328336&#45;&gt;140076809331536*</title>\n<path fill=\"none\" stroke=\"black\" d=\"M2407.04,-52.07C2485.41,-57.79 2594.98,-65.79 2650.96,-69.87\"/>\n<polygon fill=\"black\" stroke=\"black\" points=\"2650.87,-73.37 2661.1,-70.61 2651.38,-66.39 2650.87,-73.37\"/>\n</g>\n<!-- 140076809328336+&#45;&gt;140076809328336 -->\n<g id=\"edge5\" class=\"edge\">\n<title>140076809328336+&#45;&gt;140076809328336</title>\n<path fill=\"none\" stroke=\"black\" d=\"M1967,-45.5C2017.46,-45.5 2131.06,-45.5 2214.81,-45.5\"/>\n<polygon fill=\"black\" stroke=\"black\" points=\"2214.87,-49 2224.87,-45.5 2214.87,-42 2214.87,-49\"/>\n</g>\n<!-- 140076810665744 -->\n<g id=\"node14\" class=\"node\">\n<title>140076810665744</title>\n<polygon fill=\"none\" stroke=\"black\" points=\"1071,-83.5 1071,-119.5 1256,-119.5 1256,-83.5 1071,-83.5\"/>\n<text text-anchor=\"middle\" x=\"1082.5\" y=\"-97.8\" font-family=\"Times,serif\" font-size=\"14.00\">n</text>\n<polyline fill=\"none\" stroke=\"black\" points=\"1094,-83.5 1094,-119.5 \"/>\n<text text-anchor=\"middle\" x=\"1134\" y=\"-97.8\" font-family=\"Times,serif\" font-size=\"14.00\">data 0.8814</text>\n<polyline fill=\"none\" stroke=\"black\" points=\"1174,-83.5 1174,-119.5 \"/>\n<text text-anchor=\"middle\" x=\"1215\" y=\"-97.8\" font-family=\"Times,serif\" font-size=\"14.00\">grad 0.5000</text>\n</g>\n<!-- 140076810653136* -->\n<g id=\"node28\" class=\"node\">\n<title>140076810653136*</title>\n<ellipse fill=\"none\" stroke=\"black\" cx=\"1319\" cy=\"-73.5\" rx=\"27\" ry=\"18\"/>\n<text text-anchor=\"middle\" x=\"1319\" y=\"-69.8\" font-family=\"Times,serif\" font-size=\"14.00\">*</text>\n</g>\n<!-- 140076810665744&#45;&gt;140076810653136* -->\n<g id=\"edge25\" class=\"edge\">\n<title>140076810665744&#45;&gt;140076810653136*</title>\n<path fill=\"none\" stroke=\"black\" d=\"M1256.01,-84.81C1265.49,-83.08 1274.66,-81.41 1282.9,-79.9\"/>\n<polygon fill=\"black\" stroke=\"black\" points=\"1283.6,-83.33 1292.81,-78.09 1282.35,-76.45 1283.6,-83.33\"/>\n</g>\n<!-- 140076810665744+&#45;&gt;140076810665744 -->\n<g id=\"edge6\" class=\"edge\">\n<title>140076810665744+&#45;&gt;140076810665744</title>\n<path fill=\"none\" stroke=\"black\" d=\"M1035.04,-101.5C1042.58,-101.5 1051.3,-101.5 1060.57,-101.5\"/>\n<polygon fill=\"black\" stroke=\"black\" points=\"1060.81,-105 1070.81,-101.5 1060.81,-98 1060.81,-105\"/>\n</g>\n<!-- 140076810657040 -->\n<g id=\"node16\" class=\"node\">\n<title>140076810657040</title>\n<polygon fill=\"none\" stroke=\"black\" points=\"4,-84.5 4,-120.5 196,-120.5 196,-84.5 4,-84.5\"/>\n<text text-anchor=\"middle\" x=\"19\" y=\"-98.8\" font-family=\"Times,serif\" font-size=\"14.00\">x2</text>\n<polyline fill=\"none\" stroke=\"black\" points=\"34,-84.5 34,-120.5 \"/>\n<text text-anchor=\"middle\" x=\"74\" y=\"-98.8\" font-family=\"Times,serif\" font-size=\"14.00\">data 0.0000</text>\n<polyline fill=\"none\" stroke=\"black\" points=\"114,-84.5 114,-120.5 \"/>\n<text text-anchor=\"middle\" x=\"155\" y=\"-98.8\" font-family=\"Times,serif\" font-size=\"14.00\">grad 0.5000</text>\n</g>\n<!-- 140076810665296* -->\n<g id=\"node23\" class=\"node\">\n<title>140076810665296*</title>\n<ellipse fill=\"none\" stroke=\"black\" cx=\"263\" cy=\"-102.5\" rx=\"27\" ry=\"18\"/>\n<text text-anchor=\"middle\" x=\"263\" y=\"-98.8\" font-family=\"Times,serif\" font-size=\"14.00\">*</text>\n</g>\n<!-- 140076810657040&#45;&gt;140076810665296* -->\n<g id=\"edge23\" class=\"edge\">\n<title>140076810657040&#45;&gt;140076810665296*</title>\n<path fill=\"none\" stroke=\"black\" d=\"M196.05,-102.5C206.52,-102.5 216.65,-102.5 225.71,-102.5\"/>\n<polygon fill=\"black\" stroke=\"black\" points=\"225.79,-106 235.79,-102.5 225.79,-99 225.79,-106\"/>\n</g>\n<!-- 140076810661136 -->\n<g id=\"node17\" class=\"node\">\n<title>140076810661136</title>\n<polygon fill=\"none\" stroke=\"black\" points=\"1072.5,-28.5 1072.5,-64.5 1254.5,-64.5 1254.5,-28.5 1072.5,-28.5\"/>\n<text text-anchor=\"middle\" x=\"1082.5\" y=\"-42.8\" font-family=\"Times,serif\" font-size=\"14.00\"> </text>\n<polyline fill=\"none\" stroke=\"black\" points=\"1092.5,-28.5 1092.5,-64.5 \"/>\n<text text-anchor=\"middle\" x=\"1132.5\" y=\"-42.8\" font-family=\"Times,serif\" font-size=\"14.00\">data 2.0000</text>\n<polyline fill=\"none\" stroke=\"black\" points=\"1172.5,-28.5 1172.5,-64.5 \"/>\n<text text-anchor=\"middle\" x=\"1213.5\" y=\"-42.8\" font-family=\"Times,serif\" font-size=\"14.00\">grad 0.2203</text>\n</g>\n<!-- 140076810661136&#45;&gt;140076810653136* -->\n<g id=\"edge13\" class=\"edge\">\n<title>140076810661136&#45;&gt;140076810653136*</title>\n<path fill=\"none\" stroke=\"black\" d=\"M1254.68,-62.36C1264.61,-64.11 1274.23,-65.8 1282.84,-67.32\"/>\n<polygon fill=\"black\" stroke=\"black\" points=\"1282.36,-70.78 1292.81,-69.07 1283.57,-63.89 1282.36,-70.78\"/>\n</g>\n<!-- 140076809331536 -->\n<g id=\"node18\" class=\"node\">\n<title>140076809331536</title>\n<polygon fill=\"none\" stroke=\"black\" points=\"2751,-54.5 2751,-90.5 2936,-90.5 2936,-54.5 2751,-54.5\"/>\n<text text-anchor=\"middle\" x=\"2762.5\" y=\"-68.8\" font-family=\"Times,serif\" font-size=\"14.00\">o</text>\n<polyline fill=\"none\" stroke=\"black\" points=\"2774,-54.5 2774,-90.5 \"/>\n<text text-anchor=\"middle\" x=\"2814\" y=\"-68.8\" font-family=\"Times,serif\" font-size=\"14.00\">data 0.7071</text>\n<polyline fill=\"none\" stroke=\"black\" points=\"2854,-54.5 2854,-90.5 \"/>\n<text text-anchor=\"middle\" x=\"2895\" y=\"-68.8\" font-family=\"Times,serif\" font-size=\"14.00\">grad 1.0000</text>\n</g>\n<!-- 140076809331536*&#45;&gt;140076809331536 -->\n<g id=\"edge7\" class=\"edge\">\n<title>140076809331536*&#45;&gt;140076809331536</title>\n<path fill=\"none\" stroke=\"black\" d=\"M2715.04,-72.5C2722.58,-72.5 2731.3,-72.5 2740.57,-72.5\"/>\n<polygon fill=\"black\" stroke=\"black\" points=\"2740.81,-76 2750.81,-72.5 2740.81,-69 2740.81,-76\"/>\n</g>\n<!-- 140076809325008 -->\n<g id=\"node20\" class=\"node\">\n<title>140076809325008</title>\n<polygon fill=\"none\" stroke=\"black\" points=\"2003,-82.5 2003,-118.5 2189,-118.5 2189,-82.5 2003,-82.5\"/>\n<text text-anchor=\"middle\" x=\"2013\" y=\"-96.8\" font-family=\"Times,serif\" font-size=\"14.00\"> </text>\n<polyline fill=\"none\" stroke=\"black\" points=\"2023,-82.5 2023,-118.5 \"/>\n<text text-anchor=\"middle\" x=\"2063\" y=\"-96.8\" font-family=\"Times,serif\" font-size=\"14.00\">data 6.8284</text>\n<polyline fill=\"none\" stroke=\"black\" points=\"2103,-82.5 2103,-118.5 \"/>\n<text text-anchor=\"middle\" x=\"2146\" y=\"-96.8\" font-family=\"Times,serif\" font-size=\"14.00\">grad &#45;0.1036</text>\n</g>\n<!-- 140076809325008&#45;&gt;140076809328144**&#45;1 -->\n<g id=\"edge19\" class=\"edge\">\n<title>140076809325008&#45;&gt;140076809328144**&#45;1</title>\n<path fill=\"none\" stroke=\"black\" d=\"M2189.14,-100.5C2220.72,-100.5 2254.24,-100.5 2278.74,-100.5\"/>\n<polygon fill=\"black\" stroke=\"black\" points=\"2278.98,-104 2288.98,-100.5 2278.98,-97 2278.98,-104\"/>\n</g>\n<!-- 140076809325008+&#45;&gt;140076809325008 -->\n<g id=\"edge8\" class=\"edge\">\n<title>140076809325008+&#45;&gt;140076809325008</title>\n<path fill=\"none\" stroke=\"black\" d=\"M1967.12,-100.5C1974.62,-100.5 1983.29,-100.5 1992.5,-100.5\"/>\n<polygon fill=\"black\" stroke=\"black\" points=\"1992.69,-104 2002.69,-100.5 1992.69,-97 1992.69,-104\"/>\n</g>\n<!-- 140076810665296 -->\n<g id=\"node22\" class=\"node\">\n<title>140076810665296</title>\n<polygon fill=\"none\" stroke=\"black\" points=\"328.5,-84.5 328.5,-120.5 543.5,-120.5 543.5,-84.5 328.5,-84.5\"/>\n<text text-anchor=\"middle\" x=\"355\" y=\"-98.8\" font-family=\"Times,serif\" font-size=\"14.00\">x2*w2</text>\n<polyline fill=\"none\" stroke=\"black\" points=\"381.5,-84.5 381.5,-120.5 \"/>\n<text text-anchor=\"middle\" x=\"421.5\" y=\"-98.8\" font-family=\"Times,serif\" font-size=\"14.00\">data 0.0000</text>\n<polyline fill=\"none\" stroke=\"black\" points=\"461.5,-84.5 461.5,-120.5 \"/>\n<text text-anchor=\"middle\" x=\"502.5\" y=\"-98.8\" font-family=\"Times,serif\" font-size=\"14.00\">grad 0.5000</text>\n</g>\n<!-- 140076810665296&#45;&gt;140076810665616+ -->\n<g id=\"edge15\" class=\"edge\">\n<title>140076810665296&#45;&gt;140076810665616+</title>\n<path fill=\"none\" stroke=\"black\" d=\"M543.84,-119.37C554.01,-120.98 563.76,-122.51 572.44,-123.89\"/>\n<polygon fill=\"black\" stroke=\"black\" points=\"572.05,-127.37 582.47,-125.47 573.14,-120.45 572.05,-127.37\"/>\n</g>\n<!-- 140076810665296*&#45;&gt;140076810665296 -->\n<g id=\"edge9\" class=\"edge\">\n<title>140076810665296*&#45;&gt;140076810665296</title>\n<path fill=\"none\" stroke=\"black\" d=\"M290.34,-102.5C298.51,-102.5 308.08,-102.5 318.36,-102.5\"/>\n<polygon fill=\"black\" stroke=\"black\" points=\"318.39,-106 328.39,-102.5 318.39,-99 318.39,-106\"/>\n</g>\n<!-- 140076810653520 -->\n<g id=\"node24\" class=\"node\">\n<title>140076810653520</title>\n<polygon fill=\"none\" stroke=\"black\" points=\"2.5,-29.5 2.5,-65.5 197.5,-65.5 197.5,-29.5 2.5,-29.5\"/>\n<text text-anchor=\"middle\" x=\"19\" y=\"-43.8\" font-family=\"Times,serif\" font-size=\"14.00\">w2</text>\n<polyline fill=\"none\" stroke=\"black\" points=\"35.5,-29.5 35.5,-65.5 \"/>\n<text text-anchor=\"middle\" x=\"75.5\" y=\"-43.8\" font-family=\"Times,serif\" font-size=\"14.00\">data 1.0000</text>\n<polyline fill=\"none\" stroke=\"black\" points=\"115.5,-29.5 115.5,-65.5 \"/>\n<text text-anchor=\"middle\" x=\"156.5\" y=\"-43.8\" font-family=\"Times,serif\" font-size=\"14.00\">grad 0.0000</text>\n</g>\n<!-- 140076810653520&#45;&gt;140076810665296* -->\n<g id=\"edge18\" class=\"edge\">\n<title>140076810653520&#45;&gt;140076810665296*</title>\n<path fill=\"none\" stroke=\"black\" d=\"M172.53,-65.56C181.84,-68.33 191.2,-71.33 200,-74.5 210.53,-78.29 221.75,-83.1 231.72,-87.67\"/>\n<polygon fill=\"black\" stroke=\"black\" points=\"230.28,-90.86 240.82,-91.93 233.25,-84.52 230.28,-90.86\"/>\n</g>\n<!-- 140076809416592 -->\n<g id=\"node25\" class=\"node\">\n<title>140076809416592</title>\n<polygon fill=\"none\" stroke=\"black\" points=\"2,-139.5 2,-175.5 198,-175.5 198,-139.5 2,-139.5\"/>\n<text text-anchor=\"middle\" x=\"17\" y=\"-153.8\" font-family=\"Times,serif\" font-size=\"14.00\">x1</text>\n<polyline fill=\"none\" stroke=\"black\" points=\"32,-139.5 32,-175.5 \"/>\n<text text-anchor=\"middle\" x=\"72\" y=\"-153.8\" font-family=\"Times,serif\" font-size=\"14.00\">data 2.0000</text>\n<polyline fill=\"none\" stroke=\"black\" points=\"112,-139.5 112,-175.5 \"/>\n<text text-anchor=\"middle\" x=\"155\" y=\"-153.8\" font-family=\"Times,serif\" font-size=\"14.00\">grad &#45;1.5000</text>\n</g>\n<!-- 140076809416592&#45;&gt;140076810656784* -->\n<g id=\"edge24\" class=\"edge\">\n<title>140076809416592&#45;&gt;140076810656784*</title>\n<path fill=\"none\" stroke=\"black\" d=\"M198.37,-157.5C208.05,-157.5 217.4,-157.5 225.8,-157.5\"/>\n<polygon fill=\"black\" stroke=\"black\" points=\"225.91,-161 235.91,-157.5 225.91,-154 225.91,-161\"/>\n</g>\n<!-- 140076810651600 -->\n<g id=\"node26\" class=\"node\">\n<title>140076810651600</title>\n<polygon fill=\"none\" stroke=\"black\" points=\"716,-56.5 716,-92.5 901,-92.5 901,-56.5 716,-56.5\"/>\n<text text-anchor=\"middle\" x=\"727.5\" y=\"-70.8\" font-family=\"Times,serif\" font-size=\"14.00\">b</text>\n<polyline fill=\"none\" stroke=\"black\" points=\"739,-56.5 739,-92.5 \"/>\n<text text-anchor=\"middle\" x=\"779\" y=\"-70.8\" font-family=\"Times,serif\" font-size=\"14.00\">data 6.8814</text>\n<polyline fill=\"none\" stroke=\"black\" points=\"819,-56.5 819,-92.5 \"/>\n<text text-anchor=\"middle\" x=\"860\" y=\"-70.8\" font-family=\"Times,serif\" font-size=\"14.00\">grad 0.5000</text>\n</g>\n<!-- 140076810651600&#45;&gt;140076810665744+ -->\n<g id=\"edge14\" class=\"edge\">\n<title>140076810651600&#45;&gt;140076810665744+</title>\n<path fill=\"none\" stroke=\"black\" d=\"M901.02,-87.01C926,-90.43 951.59,-93.93 971.37,-96.63\"/>\n<polygon fill=\"black\" stroke=\"black\" points=\"971.05,-100.12 981.43,-98.01 972,-93.18 971.05,-100.12\"/>\n</g>\n<!-- 140076810653136 -->\n<g id=\"node27\" class=\"node\">\n<title>140076810653136</title>\n<polygon fill=\"none\" stroke=\"black\" points=\"1382,-55.5 1382,-91.5 1564,-91.5 1564,-55.5 1382,-55.5\"/>\n<text text-anchor=\"middle\" x=\"1392\" y=\"-69.8\" font-family=\"Times,serif\" font-size=\"14.00\"> </text>\n<polyline fill=\"none\" stroke=\"black\" points=\"1402,-55.5 1402,-91.5 \"/>\n<text text-anchor=\"middle\" x=\"1442\" y=\"-69.8\" font-family=\"Times,serif\" font-size=\"14.00\">data 1.7627</text>\n<polyline fill=\"none\" stroke=\"black\" points=\"1482,-55.5 1482,-91.5 \"/>\n<text text-anchor=\"middle\" x=\"1523\" y=\"-69.8\" font-family=\"Times,serif\" font-size=\"14.00\">grad 0.2500</text>\n</g>\n<!-- 140076810653136&#45;&gt;140076810657808exp -->\n<g id=\"edge12\" class=\"edge\">\n<title>140076810653136&#45;&gt;140076810657808exp</title>\n<path fill=\"none\" stroke=\"black\" d=\"M1564.18,-73.5C1573.14,-73.5 1581.83,-73.5 1589.73,-73.5\"/>\n<polygon fill=\"black\" stroke=\"black\" points=\"1589.96,-77 1599.96,-73.5 1589.96,-70 1589.96,-77\"/>\n</g>\n<!-- 140076810653136*&#45;&gt;140076810653136 -->\n<g id=\"edge10\" class=\"edge\">\n<title>140076810653136*&#45;&gt;140076810653136</title>\n<path fill=\"none\" stroke=\"black\" d=\"M1346.13,-73.5C1353.67,-73.5 1362.39,-73.5 1371.64,-73.5\"/>\n<polygon fill=\"black\" stroke=\"black\" points=\"1371.87,-77 1381.87,-73.5 1371.87,-70 1371.87,-77\"/>\n</g>\n</g>\n</svg>\n",
            "text/plain": [
              "<graphviz.graphs.Digraph at 0x7f662c8a56d0>"
            ]
          },
          "metadata": {},
          "execution_count": 9
        }
      ],
      "source": [
        "# same as above, but note how we were able to define tanh using more primitive operations we have now defined\n",
        "# the output should be identical\n",
        "\n",
        "x1 = Value(2.0, label='x1')\n",
        "x2 = Value(0.0, label='x2')\n",
        "w1 = Value(-3.0, label='w1')\n",
        "w2 = Value(1.0, label='w2')\n",
        "b = Value(6.8813735870195432, label='b')\n",
        "x1w1 = x1*w1; x1w1.label = 'x1*w1'\n",
        "x2w2 = x2*w2; x2w2.label = 'x2*w2'\n",
        "sum_all_inputs = x1w1 + x2w2; sum_all_inputs.label = 'x1*w1 + x2*w2'\n",
        "n = sum_all_inputs + b; n.label = 'n'\n",
        "\n",
        "# let's test new ops by computing tanh explicitly\n",
        "# tanh(x) = (exp(2 * x) - 1) / (exp(2 * x) + 1)\n",
        "e = (2*n).exp()\n",
        "o = (e-1)/(e+1)\n",
        "\n",
        "o.label = 'o'\n",
        "\n",
        "o.backward()\n",
        "\n",
        "draw_dot(o)"
      ]
    },
    {
      "cell_type": "code",
      "execution_count": 10,
      "metadata": {
        "ExecuteTime": {
          "end_time": "2023-09-29T00:46:44.096500Z",
          "start_time": "2023-09-29T00:46:44.089621Z"
        },
        "id": "w-0MLYqICgqU",
        "outputId": "df1438bf-0bc9-4d98-a3b6-655459928fb9",
        "colab": {
          "base_uri": "https://localhost:8080/"
        }
      },
      "outputs": [
        {
          "output_type": "stream",
          "name": "stdout",
          "text": [
            "0.7071066904050358\n",
            "---\n",
            "x2 0.5000001283844369\n",
            "w2 0.0\n",
            "x1 -1.5000003851533106\n",
            "w1 1.0000002567688737\n"
          ]
        }
      ],
      "source": [
        "# can do the same thing in pytorch now that we understand how it works\n",
        "\n",
        "x1 = torch.Tensor([2.0]).double()                ; x1.requires_grad = True\n",
        "x2 = torch.Tensor([0.0]).double()                ; x2.requires_grad = True\n",
        "w1 = torch.Tensor([-3.0]).double()               ; w1.requires_grad = True\n",
        "w2 = torch.Tensor([1.0]).double()                ; w2.requires_grad = True\n",
        "b = torch.Tensor([6.8813735870195432]).double()  ; b.requires_grad = True\n",
        "n = x1*w1 + x2*w2 + b\n",
        "o = torch.tanh(n)\n",
        "\n",
        "print(o.data.item())\n",
        "o.backward()\n",
        "\n",
        "print('---')\n",
        "print('x2', x2.grad.item())\n",
        "print('w2', w2.grad.item())\n",
        "print('x1', x1.grad.item())\n",
        "print('w1', w1.grad.item())"
      ]
    },
    {
      "cell_type": "markdown",
      "metadata": {
        "id": "GTlIrL7TCgqU"
      },
      "source": [
        "![MLP](https://github.com/AloofBuddha/neural-nets-zero-to-hero/blob/main/resources/multi-layer-perceptron.png?raw=1)"
      ]
    },
    {
      "cell_type": "markdown",
      "source": [
        "We will build this up piece by piece, First"
      ],
      "metadata": {
        "id": "sxZje0DxO9OL"
      }
    },
    {
      "cell_type": "markdown",
      "source": [],
      "metadata": {
        "id": "4PyocUJ6O8z7"
      }
    },
    {
      "cell_type": "code",
      "execution_count": 11,
      "metadata": {
        "ExecuteTime": {
          "end_time": "2023-09-29T00:46:44.101479Z",
          "start_time": "2023-09-29T00:46:44.096602Z"
        },
        "id": "UokIFV6rCgqU"
      },
      "outputs": [],
      "source": [
        "# we built an artificial neuron using Values, so let's now make classes to represent a MLP\n",
        "\n",
        "class Neuron:\n",
        "\n",
        "    def __init__(self, nin):\n",
        "        # list of randomized weights, based on input nin (# inputs)\n",
        "        self.w = [Value(random.uniform(-1, 1)) for _ in range(nin)]\n",
        "        self.b = Value(random.uniform(-1, 1))\n",
        "\n",
        "    def __call__(self, x):\n",
        "        # w * x + b\n",
        "        act = sum((wi*xi for wi, xi in zip(self.w, x)), self.b)\n",
        "        out = act.tanh()\n",
        "        return out\n",
        "\n",
        "    def parameters(self):\n",
        "        # helper function to collect all parameters for this neuron\n",
        "        return self.w + [self.b]\n",
        "\n",
        "class Layer:\n",
        "\n",
        "    def __init__(self, nin, nout):\n",
        "        self.neurons = [Neuron(nin) for _ in range(nout)]\n",
        "\n",
        "    def __call__(self, x):\n",
        "        outs = [n(x) for n in self.neurons]\n",
        "        return outs[0] if len(outs) == 1 else outs\n",
        "\n",
        "    def parameters(self):\n",
        "        return [p for neuron in self.neurons for p in neuron.parameters()]\n",
        "\n",
        "\n",
        "class MLP:\n",
        "\n",
        "    def __init__(self, nin, nouts):\n",
        "        sz = [nin] + nouts\n",
        "        self.layers = [Layer(sz[i], sz[i+1]) for i in range(len(nouts))]\n",
        "\n",
        "    def __call__(self, x):\n",
        "        for layer in self.layers:\n",
        "            x = layer(x)\n",
        "        return x\n",
        "\n",
        "    def parameters(self):\n",
        "        return [p for layer in self.layers for p in layer.parameters()]\n"
      ]
    },
    {
      "cell_type": "code",
      "execution_count": 24,
      "metadata": {
        "ExecuteTime": {
          "end_time": "2023-09-29T00:46:44.106645Z",
          "start_time": "2023-09-29T00:46:44.101053Z"
        },
        "id": "4-oIFLUJCgqV",
        "outputId": "50ecc121-fe58-4018-d8cb-04be0fde8ac4",
        "colab": {
          "base_uri": "https://localhost:8080/"
        }
      },
      "outputs": [
        {
          "output_type": "stream",
          "name": "stdout",
          "text": [
            "[Value(data=0.23189407708201437), Value(data=-0.9783325323770233)] Value(data=-0.3584123012130864)\n",
            "[Value(data=0.23189407708201437), Value(data=-0.9783325323770233), Value(data=-0.3584123012130864)]\n",
            "-0.9930539032869011\n",
            "Value(data=-0.993053903286901)\n"
          ]
        }
      ],
      "source": [
        "# testing a single Neuron\n",
        "\n",
        "x = [2.0, 3.0]\n",
        "n = Neuron(len(x))\n",
        "output = n(x)\n",
        "\n",
        "print(n.w, n.b)\n",
        "print(n.parameters())\n",
        "\n",
        "print(math.tanh(2.0 * n.w[0].data + 3.0*n.w[1].data + n.b.data))\n",
        "print(output)"
      ]
    },
    {
      "cell_type": "code",
      "execution_count": 13,
      "metadata": {
        "ExecuteTime": {
          "end_time": "2023-09-29T00:46:44.125264Z",
          "start_time": "2023-09-29T00:46:44.104760Z"
        },
        "id": "Nl3qXHN_CgqV",
        "outputId": "1f409550-6572-48e2-a8e0-bfb38f1f58c6",
        "colab": {
          "base_uri": "https://localhost:8080/"
        }
      },
      "outputs": [
        {
          "output_type": "execute_result",
          "data": {
            "text/plain": [
              "[Value(data=0.9880798883178653),\n",
              " Value(data=0.9713815373847208),\n",
              " Value(data=0.2327668267866493)]"
            ]
          },
          "metadata": {},
          "execution_count": 13
        }
      ],
      "source": [
        "# testing a layer of Neurons\n",
        "\n",
        "x = [2.0, 3.0]\n",
        "n = Layer(2, 3)\n",
        "\n",
        "output = n(x)\n",
        "\n",
        "output"
      ]
    },
    {
      "cell_type": "code",
      "execution_count": 14,
      "metadata": {
        "ExecuteTime": {
          "end_time": "2023-09-29T00:46:44.136016Z",
          "start_time": "2023-09-29T00:46:44.109859Z"
        },
        "id": "N30_Ht-CCgqV",
        "outputId": "885a4c1f-7448-4a74-a651-ff8e498805f3",
        "colab": {
          "base_uri": "https://localhost:8080/"
        }
      },
      "outputs": [
        {
          "output_type": "execute_result",
          "data": {
            "text/plain": [
              "Value(data=0.04337841607205558)"
            ]
          },
          "metadata": {},
          "execution_count": 14
        }
      ],
      "source": [
        "# testing a MLP\n",
        "\n",
        "x = [2.0, 3.0, -1.0]\n",
        "n = MLP(3, [4, 4, 1])\n",
        "\n",
        "output = n(x)\n",
        "\n",
        "output"
      ]
    },
    {
      "cell_type": "code",
      "execution_count": 15,
      "metadata": {
        "ExecuteTime": {
          "end_time": "2023-09-29T00:46:44.143896Z",
          "start_time": "2023-09-29T00:46:44.114045Z"
        },
        "id": "X9iVARL6CgqV",
        "outputId": "01cb9938-0466-49e4-a100-75c344832316",
        "colab": {
          "base_uri": "https://localhost:8080/"
        }
      },
      "outputs": [
        {
          "output_type": "execute_result",
          "data": {
            "text/plain": [
              "[Value(data=0.04337841607205558),\n",
              " Value(data=-0.20595789929684982),\n",
              " Value(data=-0.013829908004165888),\n",
              " Value(data=-0.014096850219758874)]"
            ]
          },
          "metadata": {},
          "execution_count": 15
        }
      ],
      "source": [
        "# Batch input data, this represents 4 examples and out input layer has length 3\n",
        "xs = [\n",
        "  [2.0, 3.0, -1.0],\n",
        "  [3.0, -1.0, 0.5],\n",
        "  [0.5, 1.0, 1.0],\n",
        "  [1.0, 1.0, -1.0],\n",
        "]\n",
        "\n",
        "# desired targets\n",
        "ys = [1.0, -1.0, -1.0, 1.0]\n",
        "\n",
        "ypreds = [n(x) for x in xs]\n",
        "\n",
        "# predictions for these 4 examples given our existing NN\n",
        "ypreds"
      ]
    },
    {
      "cell_type": "code",
      "execution_count": 16,
      "metadata": {
        "ExecuteTime": {
          "end_time": "2023-09-29T00:46:44.144174Z",
          "start_time": "2023-09-29T00:46:44.117980Z"
        },
        "id": "BU0C4j3ACgqV",
        "outputId": "1db05b6c-99de-4944-fc98-9d8472a61abe",
        "colab": {
          "base_uri": "https://localhost:8080/"
        }
      },
      "outputs": [
        {
          "output_type": "execute_result",
          "data": {
            "text/plain": [
              "Value(data=3.546551584498589)"
            ]
          },
          "metadata": {},
          "execution_count": 16
        }
      ],
      "source": [
        "# Now the question is: how do we 'tune' our NN to perform better (ypred better approx y)\n",
        "# we can do this by first defining a loss function - measure how good/bad our prediction is (summed on all examples)\n",
        "\n",
        "loss = sum((ypred-y)**2 for (y, ypred)  in zip(ys, ypreds))\n",
        "loss"
      ]
    },
    {
      "cell_type": "code",
      "execution_count": 28,
      "metadata": {
        "ExecuteTime": {
          "end_time": "2023-09-29T00:46:57.062522Z",
          "start_time": "2023-09-29T00:46:57.058350Z"
        },
        "id": "2SjQr3dVCgqV"
      },
      "outputs": [],
      "source": [
        "# running backprop to generate gradients for all the nodes in our loss function\n",
        "loss.backward()"
      ]
    },
    {
      "cell_type": "code",
      "execution_count": 29,
      "metadata": {
        "id": "3_d7na-nCgqV",
        "outputId": "9c4c6e84-2a06-4621-b9ca-635001f946b3",
        "colab": {
          "base_uri": "https://localhost:8080/"
        }
      },
      "outputs": [
        {
          "output_type": "execute_result",
          "data": {
            "text/plain": [
              "Value(data=0.09469777860722532)"
            ]
          },
          "metadata": {},
          "execution_count": 29
        }
      ],
      "source": [
        "# arbitrary weight for testing\n",
        "w_before = w.data\n",
        "w = n.layers[0].neurons[0].w[0]"
      ]
    },
    {
      "cell_type": "code",
      "execution_count": 19,
      "metadata": {
        "id": "d_XPktTsCgqV"
      },
      "outputs": [],
      "source": [
        "# adjust all parameters by their associated gradient\n",
        "for p in n.parameters():\n",
        "    p.data += -0.01 * p.grad"
      ]
    },
    {
      "cell_type": "code",
      "execution_count": 20,
      "metadata": {
        "ExecuteTime": {
          "end_time": "2023-09-29T00:48:37.383804Z",
          "start_time": "2023-09-29T00:48:37.165315Z"
        },
        "id": "-GUZOlAWCgqW",
        "outputId": "ea2077a8-2aa9-4fd7-b1f3-8a7c6bd6aa45",
        "colab": {
          "base_uri": "https://localhost:8080/"
        }
      },
      "outputs": [
        {
          "output_type": "stream",
          "name": "stdout",
          "text": [
            "w went from: 0.0934138115327301 -> 0.09469777860722532, having been adjusted by grad -0.1283967074495222 scaled by a step size of 0.01\n"
          ]
        },
        {
          "output_type": "execute_result",
          "data": {
            "text/plain": [
              "Value(data=3.178845624292465)"
            ]
          },
          "metadata": {},
          "execution_count": 20
        }
      ],
      "source": [
        "# weight is a little closer to 0 after adjusting by the gradient\n",
        "print(f\"w went from: {w_before} -> {w.data}, having been adjusted by grad {w.grad} scaled by a step size of 0.01\")\n",
        "\n",
        "# rerun loop\n",
        "ypreds = [n(x) for x in xs]\n",
        "\n",
        "loss = sum((ypred-y)**2 for (y, ypred)  in zip(ys, ypreds))\n",
        "\n",
        "# ypreds should now be slightly closer to y, measured in the form of a loss function score closer to 0\n",
        "loss"
      ]
    },
    {
      "cell_type": "code",
      "execution_count": 21,
      "metadata": {
        "id": "9xmRtOVkCgqW",
        "outputId": "6c21546b-b141-49b8-9e62-59b6fb72c085",
        "colab": {
          "base_uri": "https://localhost:8080/"
        }
      },
      "outputs": [
        {
          "output_type": "stream",
          "name": "stdout",
          "text": [
            "1: Value(data=3.3303250498770813)\n",
            "2: Value(data=2.8215648424259854)\n",
            "3: Value(data=1.907702212081114)\n",
            "4: Value(data=0.9134863954781091)\n",
            "5: Value(data=0.33881479015070787)\n",
            "6: Value(data=0.19326629629358283)\n",
            "7: Value(data=0.21251996579740437)\n",
            "8: Value(data=0.17549301659374156)\n",
            "9: Value(data=0.08534330810406844)\n",
            "10: Value(data=0.04448235127479811)\n",
            "11: Value(data=0.029537821336764646)\n",
            "12: Value(data=0.02225448400393429)\n",
            "13: Value(data=0.016882159433529366)\n",
            "14: Value(data=0.012084816945796077)\n",
            "15: Value(data=0.008007280683084365)\n",
            "16: Value(data=0.004944643205645944)\n",
            "17: Value(data=0.002894065037034863)\n",
            "18: Value(data=0.001633841731666473)\n",
            "19: Value(data=0.0009026813075553127)\n",
            "20: Value(data=0.0004934158697378416)\n"
          ]
        }
      ],
      "source": [
        "# now let's run it iteratively to see how we can get the loss function near 0\n",
        "\n",
        "# Batch input data\n",
        "xs = [\n",
        "  [2.0, 3.0, -1.0],\n",
        "  [3.0, -1.0, 0.5],\n",
        "  [0.5, 1.0, 1.0],\n",
        "  [1.0, 1.0, -1.0],\n",
        "]\n",
        "\n",
        "# desired targets\n",
        "ys = [1.0, -1.0, -1.0, 1.0]\n",
        "\n",
        "# model\n",
        "n = MLP(3, [4, 4, 1])\n",
        "\n",
        "# run iterations to see the results\n",
        "for i in range(20):\n",
        "    # compute ypreds\n",
        "    ypreds = [n(x) for x in xs]\n",
        "    # recompute the loss (it's improved)\n",
        "    loss = sum((ypred-y)**2 for (y, ypred) in zip(ys, ypreds))\n",
        "    # compute gradients\n",
        "    loss.backward()\n",
        "    # adjust params by new gradients\n",
        "    for p in n.parameters():\n",
        "      p.data += -0.01 * p.grad\n",
        "\n",
        "    print(f\"{i+1}: {loss}\")\n"
      ]
    },
    {
      "cell_type": "markdown",
      "metadata": {
        "id": "Iwb3W4p_CgqW"
      },
      "source": [
        "# in summary\n",
        "\n",
        "So what did we learn?\n",
        "\n",
        "- We learnt that we can define a Neuron like so:\n",
        "\n",
        " `Neuron(w, b) = activation_fn(sumall(w_i, x_i) + b)`\n",
        "\n",
        " using our Value nodes\n",
        "\n",
        "- We can then define individual layers, and a MLP using these Neurons as building blocks feeding outputs from one layer as inputs to the next\n",
        "A MLP is then defined by it's # of inputs, # of layers, and # nodes at each layer\n",
        "Then, given some arbitrary input data corresponding to some arbitrary output data, we can iteratively run our model to produce predictions, calculate a loss function for how 'well' we did, run backprop to determine the gradients at each node in relation to the output (predictions), and finally adjust the weights and biases at each node (scaled by a step size) to result in a better loss function score (ie better predictions) on the next iteration. After enough iterations, our NN has 'learnt' weights and biases that effectively match the input to the expected output. if we had a validation set we could then test our trained model against it to see how it performs on data it's never seen."
      ]
    }
  ],
  "metadata": {
    "kernelspec": {
      "display_name": "default",
      "language": "python",
      "name": "python3"
    },
    "language_info": {
      "codemirror_mode": {
        "name": "ipython",
        "version": 3
      },
      "file_extension": ".py",
      "mimetype": "text/x-python",
      "name": "python",
      "nbconvert_exporter": "python",
      "pygments_lexer": "ipython3",
      "version": "3.11.7"
    },
    "orig_nbformat": 4,
    "colab": {
      "provenance": [],
      "include_colab_link": true
    }
  },
  "nbformat": 4,
  "nbformat_minor": 0
}